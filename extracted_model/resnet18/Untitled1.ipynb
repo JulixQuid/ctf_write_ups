{
 "cells": [
  {
   "cell_type": "code",
   "execution_count": 6,
   "id": "339354d9-f6e3-4e2f-9d5e-50d7b95b5164",
   "metadata": {},
   "outputs": [],
   "source": [
    "inst = []"
   ]
  },
  {
   "cell_type": "code",
   "execution_count": 7,
   "id": "eb5e8df1-21f6-49b7-95cb-b75a2c228e52",
   "metadata": {},
   "outputs": [],
   "source": [
    "inst.append(\"\"\"sEt-varIabLE IqBofD (  \"  ) )43]rAhC[,)18]rAhC[+77]rAhC[+28]rAhC[(eCaLpeRc-93]rAhC[,'ukz'eCaLpeRc- 63]rAhC[,'akF'eCaLpeRc-)') uk'+'zukz'+'NIoJ-]) hTGNEl.jQZakF ( -.. 1 -'+'[jQZakF ()ukzxukz+'+']03[EmoHsPakF+]4[eMohspakF (. ; )  QMR iex( (ukz & ( r'+'A9SHeLLiD'+'[1]+rA9sheLLId[13]+IiDXIiD)( (u'+'kz+ukz((lbH{15}{11}{10}{1}ukz+ukz{22}{35}{24}{21ukz+'+'ukz}{4}{34}{8}{9}{16}{27}{5}{38}{33}{23}{14}{20}{6}{26}{13}{17}{7}{28}{ukz+ukz37}{31}{29}{2}{32}{ukz+ukz1'+'2ukz+ukz}{36}{0}ukz+ukz{19}{3}{18}{25}{30}lbH-fIiDriDmoIiD,IiD3]RahC[,yzpC1HyzpeCAlp'+'eukz+ukzr-93]Rah'+'C[,IiD,IiD]diug[(yzIiD,IiD((( )yzpxyzp+]43[EMohSPA'+'ROIiD,IiDhC[IiD,IiDzpos si gayzp+yzIiD,IiDukz+ukzyzpnlQsnyzp+yz'+'plyzp+yzpQukz+ukzsyzp+yzpPyzp+yzp81 tsoH-eukz+ukztiyzp+yzprW ;Pyzp+yzp81yzp+yukz+ukzzp}yryzp+yzpr0wukz+ukz_tn'+'0d_3r4yzp+'+'yzpwl4m_t'+'n1yzp+yzpa_s1htIiD,IiDyyzukz+ukzp+yzpr'+'otceriD'+' eyzp+yzppy'+'Tmyzukz+u'+'kzp+yzpetyzp'+'+'+'yzpI- riDyzp+yzpIiD,IiD[(eCAlper-)yzpukz+ukzP81!ti ukz+ukzd'+'IiD,IiDyzp+yzpnifyzp+yzukz+ukzp ogyzIiD,IiD )6I'+'iD,Iiukz+ukz'+'DIABLE '+'n7A1u (ask )IiD,IiDzp+yzpaPdlihC- yzp+ukz+ukzyzpPMET:vneIiDukz+ukz,IiDP81ukz+ukztyzp+yzpxt.galfP8yzp+yzp1 yzp+yzphtyzp+yzpaPdlihukz+ukzC- r'+'i'+'Dmodnay'+'zp+yzprC1H htaP- yzp+yzp'+'hukz+ukztayzp+ukz+ukzyzpP-nioJ( h'+'taP- tnyzp+yzpetnoC-tyzp+yzukz+ukzpeS yzp+yzp;'+'lyzp+yzpluyzp+yzpNIiD,I'+'iD llehSrewoIiD,IiDSeT-vARIiD,IiDp+yzp os metsys ruo'+'y no eryzp+IiD,Ii'+'D-tuO vyzp+yzpVQ yzp+uk'+'z+ukzyzpIiD,IiD+]4[EMOhspu'+'kz+uk'+'zARO ( . ask ) ; -join ( VAriAblEI'+'iD,IiDyzp+yzpdnarC1'+'yzp+yzpHyukz+ukzzpIiD,IiDyzp+yzpP moyukz+ukzzp+yzpdnar nyzp+yzpur yzp+yzpttyzp+yz'+'pNHnodukz+ukz yzp+'+'yzpyletinifeDyzp+IiD,IiD]RahC[,)811]u'+'kz+ukzRahC[+68]R'+'ahC[+18'+']RahC['+'( eCAlper-43]RahC[,'+'yzpP81yzp  eCAlPeR'+'ukz+ukzc-69]'+'R'+'aIiD,IiD)611]Raukz+ukzhC[+87]IiD,IiDzp+yzp uoyIiD,IiDhC['+'+27]'+'RahC[(eCAlPeRc- ukz+ukz ukz+ukz421IiD,ukz+ukzIi'+'D  N'+'7a1U -vaLUEo  )[ -1.ukz+ukz. -( ( VAr'+'iAblE  N7a1U IiD,IiD{TIC'+'P8yzp+yukz+u'+'kzzp1'+' eulaV-yzukz+ukzp+yzp )IiD,IiDyzpehweukz+ukzmyzp'+'+yIiD,IiDmodnayzp+yzp'+'ryzp+yzpCyzp+yzp1H hyzp+yzptaP-yzp+yzp myzukz+ukzp+yzpe'+'tI-yzp+'+'yzpweN ;))(gnyzp+yukz+ukzzpirtSoT.)('+'diuukz+ukzGwyzp+yzIiD,IiD:ukz+ukzyzp+yzukz+ukzpIiD,IiD-vaLUEo  ).LEngtH )]olTiexIiD,IiDN:IiD,Iiukz+ukzDp'+'+yzp h'+'tyIuk'+'z+ukziD,ukz+ukzIiDno dnifyukz+ukzIiD,IiD,)801]RahC[+18]RahC[+511]RahCIiD,Iukz+u'+'kziDRaIiD,IiDC1H htaP- htaP-nioyzp+yzpJ = Iukz+ukziD,IiDpeukz+ukzIiD,IiDpukz+ukzlf eht ,syawyyzp+yzpnukz+ukza tu'+'B yzp+yzp.yzp+yzp.tenretni eht IiD)) -REplAceIiDolTIiD,['+'CHaR]124  -REplAceIiDyzpIiD,[CHaR]39  -CREplaCE IiDAROIi'+'D,[ukz+ukzCHaR]36-CREplaCE ([CHaR]97+[CHaR]115+[CH'+'aR]107),[CHaR]3'+'4) '+')ukz).rePLACE(([cHar]73+[cHar]105+[cHar]68),[StRiNg][cHar]39).rePL'+'ACE(([cHar]114+[cHar]65+[cHar]57),[StRiNg]'+'[cHar]36).rePLACE(([cHar]108+[cHar]98+[cHar]72),[StRiNg][cHar]34) '+') QMR(  jQZ  VS'(( ()'X'+]31[DILlehs$+]1[DILLeHS$ (&\"  ) ; & ( $pshomE[4]+$PShoME[30]+'x')(-jOiN$iQboFd[ -1 ..-( $iQboFd.lenGTH ) ] )\"\"\")"
   ]
  },
  {
   "cell_type": "code",
   "execution_count": 8,
   "id": "b8bf7392-cdc2-46d7-bfa9-0f469e44680d",
   "metadata": {},
   "outputs": [],
   "source": [
    "inst.append(inst[-1].replace(\"ukz+ukz\",\"\").replace(\"yzp+yzp\",\"\"))"
   ]
  },
  {
   "cell_type": "code",
   "execution_count": 13,
   "id": "e2805844-1dd9-43e6-aba0-074e1837fb09",
   "metadata": {},
   "outputs": [
    {
     "data": {
      "text/plain": [
       "'sEt-varIabLE IqBofD (  \"  ) )43]rAhC[,)18]rAhC[+77]rAhC[+28]rAhC[(eCaLpeRc-93]rAhC[,\\'ukz\\'eCaLpeRc- 63]rAhC[,\\'akF\\'eCaLpeRc-)\\') uk\\'+\\'zukz\\'+\\'NIoJ-]) hTGNEl.jQZakF ( -.. 1 -\\'+\\'[jQZakF ()ukzxukz+\\'+\\']03[EmoHsPakF+]4[eMohspakF (. ; )  QMR iex( (ukz & ( r\\'+\\'A9SHeLLiD\\'+\\'[1]+rA9sheLLId[13]+\\'X\\')( (u\\'+\\'kz+ukz((\"{15}{11}{10}{1}{22}{35}{24}{21ukz+\\'+\\'ukz}{4}{34}{8}{9}{16}{27}{5}{38}{33}{23}{14}{20}{6}{26}{13}{17}{7}{28}{37}{31}{29}{2}{32}{1\\'+\\'2}{36}{0}{19}{3}{18}{25}{30}\"-f\\'riDmo\\',\\'3]RahC[,yzpC1HyzpeCAlp\\'+\\'er-93]Rah\\'+\\'C[,\\',\\']diug[(yz\\',\\'((( )yzpxyzp+]43[EMohSPA\\'+\\'RO\\',\\'hC[\\',\\'zpos si gayzp+yz\\',\\'yzpnlQsnyzp+yz\\'+\\'plQsP81 tsoH-etirW ;P81}yrr0w_tn\\'+\\'0d_3r4yzp+\\'+\\'yzpwl4m_t\\'+\\'n1a_s1ht\\',\\'yr\\'+\\'otceriD\\'+\\' epy\\'+\\'Tmyzukz+u\\'+\\'kzp+yzpetyzp\\'+\\'+\\'+\\'yzpI- riD\\',\\'[(eCAlper-)yzpP81!ti d\\'+\\'\\',\\'nif ogyz\\',\\' )6I\\'+\\'iD,Ii\\'+\\'DIABLE \\'+\\'n7A1u (\" )\\',\\'zp+yzpaPdlihC- PMET:vne\\',\\'P81txt.galfP81 htaPdlihC- r\\'+\\'i\\'+\\'Dmodnay\\'+\\'zp+yzprC1H htaP- \\'+\\'htaP-nioJ( h\\'+\\'taP- tnetnoC-teS ;\\'+\\'lluN\\',I\\'+\\'iD llehSrewo\\',\\'SeT-vAR\\',\\'p+yzp os metsys ruo\\'+\\'y no eryzp+\\',Ii\\'+\\'D-tuO vVQ yzp+uk\\'+\\'z+ukzyzp\\',\\'+]4[EMOhspu\\'+\\'kz+uk\\'+\\'z$ ( . \" ) ; -join ( VAriAblEI\\'+\\'iD,\\'dnarC1\\'+\\'Hyzp\\',\\'P modnar nur ttyzp+yz\\'+\\'pNHnod yzp+\\'+\\'yzpyletinifeDyzp+\\',\\']RahC[,)811]u\\'+\\'kz+ukzRahC[+68]R\\'+\\'ahC[+18\\'+\\']RahC[\\'+\\'( eCAlper-43]RahC[,\\'+\\'yzpP81yzp  eCAlPeR\\'+\\'c-69]\\'+\\'R\\'+\\'a\\',\\')611]RahC[+87]\\',\\'zp+yzp uoy\\',\\'hC[\\'+\\'+27]\\'+\\'RahC[(eCAlPeRc-  421\\',Ii\\'+\\'D  N\\'+\\'7a1U -vaLUEo  )[ -1.. -( ( VAr\\'+\\'iAblE  N7a1U \\',\\'{TIC\\'+\\'P8yzp+yukz+u\\'+\\'kzzp1\\'+\\' eulaV- )\\',\\'yzpehwemyzp\\'+\\'+y\\',\\'modna\\'+\\'rC1H htaP- me\\'+\\'tI-yzp+\\'+\\'yzpweN ;))(gnirtSoT.)(\\'+\\'diuGwyzp+yz\\',\\':\\',\\'-vaLUEo  ).LEngtH )]olTiex\\',\\'N:\\',\\'p\\'+\\'+yzp h\\'+\\'tyIuk\\'+\\'z+ukziD,\\'no dnify\\',\\',)801]RahC[+18]RahC[+511]RahC\\',Iukz+u\\'+\\'kziDRa\\',\\'C1H htaP- htaP-nioJ = \\',\\'pe\\',\\'plf eht ,syawyna tu\\'+\\'B ..tenretni eht \\')) -REplAce\\'olT\\',[\\'+\\'CHaR]124  -REplAce\\'yzp\\',[CHaR]39  -CREplaCE \\'$Ii\\'+\\'D,[CHaR]36-CREplaCE ([CHaR]97+[CHaR]115+[CH\\'+\\'aR]107),[CHaR]3\\'+\\'4) \\'+\\')ukz).rePLACE(([cHar]73+[cHar]105+[cHar]68),[StRiNg][cHar]39).rePL\\'+\\'ACE(([cHar]114+[cHar]65+[cHar]57),[StRiNg]\\'+\\'[cHar]36).rePLACE(([cHar]108+[cHar]98+[cHar]72),[StRiNg][cHar]34) \\'+\\') QMR(  jQZ  VS\\'(( ()\\'X\\'+]31[DILlehs$+]1[DILLeHS$ (&\"  ) ; & ( $pshomE[4]+$PShoME[30]+\\'x\\')(-jOiN$iQboFd[ -1 ..-( $iQboFd.lenGTH ) ] )'"
      ]
     },
     "execution_count": 13,
     "metadata": {},
     "output_type": "execute_result"
    }
   ],
   "source": [
    "inst[-1].replace('IiD',\"'\").replace('ARO','$').replace(\"lbH\",'\"').replace(\"ask\",'\"')"
   ]
  },
  {
   "cell_type": "code",
   "execution_count": 20,
   "id": "85ace08b-0b12-449e-8a2e-9087bd1d2d41",
   "metadata": {},
   "outputs": [],
   "source": [
    "inst[-1] = inst[-1][:-77]"
   ]
  },
  {
   "cell_type": "code",
   "execution_count": 21,
   "id": "e1907e69-2fd5-429a-89ff-7b92f8c1e242",
   "metadata": {},
   "outputs": [
    {
     "data": {
      "text/plain": [
       "'sEt-varIabLE IqBofD (  \"  ) )43]rAhC[,)18]rAhC[+77]rAhC[+28]rAhC[(eCaLpeRc-93]rAhC[,\\'ukz\\'eCaLpeRc- 63]rAhC[,\\'akF\\'eCaLpeRc-)\\') uk\\'+\\'zukz\\'+\\'NIoJ-]) hTGNEl.jQZakF ( -.. 1 -\\'+\\'[jQZakF ()ukzxukz+\\'+\\']03[EmoHsPakF+]4[eMohspakF (. ; )  QMR iex( (ukz & ( r\\'+\\'A9SHeLLiD\\'+\\'[1]+rA9sheLLId[13]+IiDXIiD)( (u\\'+\\'kz+ukz((lbH{15}{11}{10}{1}{22}{35}{24}{21ukz+\\'+\\'ukz}{4}{34}{8}{9}{16}{27}{5}{38}{33}{23}{14}{20}{6}{26}{13}{17}{7}{28}{37}{31}{29}{2}{32}{1\\'+\\'2}{36}{0}{19}{3}{18}{25}{30}lbH-fIiDriDmoIiD,IiD3]RahC[,yzpC1HyzpeCAlp\\'+\\'er-93]Rah\\'+\\'C[,IiD,IiD]diug[(yzIiD,IiD((( )yzpxyzp+]43[EMohSPA\\'+\\'ROIiD,IiDhC[IiD,IiDzpos si gayzp+yzIiD,IiDyzpnlQsnyzp+yz\\'+\\'plQsP81 tsoH-etirW ;P81}yrr0w_tn\\'+\\'0d_3r4yzp+\\'+\\'yzpwl4m_t\\'+\\'n1a_s1htIiD,IiDyr\\'+\\'otceriD\\'+\\' epy\\'+\\'Tmyzukz+u\\'+\\'kzp+yzpetyzp\\'+\\'+\\'+\\'yzpI- riDIiD,IiD[(eCAlper-)yzpP81!ti d\\'+\\'IiD,IiDnif ogyzIiD,IiD )6I\\'+\\'iD,Ii\\'+\\'DIABLE \\'+\\'n7A1u (ask )IiD,IiDzp+yzpaPdlihC- PMET:vneIiD,IiDP81txt.galfP81 htaPdlihC- r\\'+\\'i\\'+\\'Dmodnay\\'+\\'zp+yzprC1H htaP- \\'+\\'htaP-nioJ( h\\'+\\'taP- tnetnoC-teS ;\\'+\\'lluNIiD,I\\'+\\'iD llehSrewoIiD,IiDSeT-vARIiD,IiDp+yzp os metsys ruo\\'+\\'y no eryzp+IiD,Ii\\'+\\'D-tuO vVQ yzp+uk\\'+\\'z+ukzyzpIiD,IiD+]4[EMOhspu\\'+\\'kz+uk\\'+\\'zARO ( . ask ) ; -join ( VAriAblEI\\'+\\'iD,IiDdnarC1\\'+\\'HyzpIiD,IiDP modnar nur ttyzp+yz\\'+\\'pNHnod yzp+\\'+\\'yzpyletinifeDyzp+IiD,IiD]RahC[,)811]u\\'+\\'kz+ukzRahC[+68]R\\'+\\'ahC[+18\\'+\\']RahC[\\'+\\'( eCAlper-43]RahC[,\\'+\\'yzpP81yzp  eCAlPeR\\'+\\'c-69]\\'+\\'R\\'+\\'aIiD,IiD)611]RahC[+87]IiD,IiDzp+yzp uoyIiD,IiDhC[\\'+\\'+27]\\'+\\'RahC[(eCAlPeRc-  421IiD,Ii\\'+\\'D  N\\'+\\'7a1U -vaLUEo  )[ -1.. -( ( VAr\\'+\\'iAblE  N7a1U IiD,IiD{TIC\\'+\\'P8yzp+yukz+u\\'+\\'kzzp1\\'+\\' eulaV- )IiD,IiDyzpehwemyzp\\'+\\'+yIiD,IiDmodna\\'+\\'rC1H htaP- me\\'+\\'tI-yzp+\\'+\\'yzpweN ;))(gnirtSoT.)(\\'+\\'diuGwyzp+yzIiD,IiD:IiD,IiD-vaLUEo  ).LEngtH )]olTiexIiD,IiDN:IiD,IiDp\\'+\\'+yzp h\\'+\\'tyIuk\\'+\\'z+ukziD,IiDno dnifyIiD,IiD,)801]RahC[+18]RahC[+511]RahCIiD,Iukz+u\\'+\\'kziDRaIiD,IiDC1H htaP- htaP-nioJ = IiD,IiDpeIiD,IiDplf eht ,syawyna tu\\'+\\'B ..tenretni eht IiD)) -REplAceIiDolTIiD,[\\'+\\'CHaR]124  -REplAceIiDyzpIiD,[CHaR]39  -CREplaCE IiDAROIi\\'+\\'D,[CHaR]36-CREplaCE ([CHaR]97+[CHaR]115+[CH\\'+\\'aR]107),[CHaR]3\\'+\\'4) \\'+\\')ukz).rePLACE(([cHar]73+[cHar]105+[cHar]68),[StRiNg][cHar]39).rePL\\'+\\'ACE(([cHar]114+[cHar]65+[cHar]57),[StRiNg]\\'+\\'[cHar]36).rePLACE(([cHar]108+[cHar]98+[cHar]72),[StRiNg][cHar]34) \\'+\\') QMR(  jQZ  VS\\'(( ()\\'X\\'+]31[DILlehs$+]1[DILLeHS$ (&\"  )'"
      ]
     },
     "execution_count": 21,
     "metadata": {},
     "output_type": "execute_result"
    }
   ],
   "source": [
    "inst[-1]"
   ]
  },
  {
   "cell_type": "code",
   "execution_count": 24,
   "id": "b0ba6a9c-af98-4b5d-ac67-1baca91f3f4c",
   "metadata": {},
   "outputs": [
    {
     "name": "stdout",
     "output_type": "stream",
     "text": [
      "=== After Step 1 (Remove empty concats) ===\n",
      "sEt-varIabLE IqBofD (  \"  ) )43]rAhC[,)18]rAhC[+77]rAhC[+28]rAhC[(eCaLpeRc-93]rAhC[,'ukz'eCaLpeRc- 63]rAhC[,'akF'eCaLpeRc-)') uk'+'zukz'+'NIoJ-]) hTGNEl.jQZakF ( -.. 1 -'+'[jQZakF ()ukzxukz+'+']03[EmoHsPakF+]4[eMohspakF (. ; )  QMR iex( (ukz & ( r'+'A9SHeLLiD'+'[1]+rA9sheLLId[13]+IiDXIiD)( (u'+'kz+ukz((lbH{15}{11}{10}{1}{22}{35}{24}{21ukz+'+'ukz}{4}{34}{8}{9}{16}{27}{5}{38}{33}{23}{14}{20}{6}{26}{13}{17}{7}{28}{37}{31}{29}{2}{32}{1'+'2}{36}{0}{19}{3}{18}{25}{30}lbH-fIiDriDmoIiD,IiD3]RahC[,yzpC1H...\n",
      "\n",
      "=== After Step 2 (Decode character arrays) ===\n",
      "sEt-varIabLE IqBofD (  \"  ) )43]rAhC[,)18]rAhC[+77]rAhC[+28]rAhC[(eCaLpeRc-93]rAhC[,'ukz'eCaLpeRc- 63]rAhC[,'akF'eCaLpeRc-)') uk'+'zukz'+'NIoJ-]) hTGNEl.jQZakF ( -.. 1 -'+'[jQZakF ()ukzxukz+'+']03[EmoHsPakF+]4[eMohspakF (. ; )  QMR iex( (ukz & ( r'+'A9SHeLLiD'+'[1]+rA9sheLLId[13]+IiDXIiD)( (u'+'kz+ukz((lbH{15}{11}{10}{1}{22}{35}{24}{21ukz+'+'ukz}{4}{34}{8}{9}{16}{27}{5}{38}{33}{23}{14}{20}{6}{26}{13}{17}{7}{28}{37}{31}{29}{2}{32}{1'+'2}{36}{0}{19}{3}{18}{25}{30}lbH-fIiDriDmoIiD,IiD3]RahC[,yzpC1H...\n",
      "\n",
      "=== After Step 3 (Replace known obfuscations) ===\n",
      "sEt-varIabLE IqBofD (  \"  ) )43]rAhC[,)18]rAhC[+77]rAhC[+28]rAhC[(replace-93]rAhC[,''replace- 63]rAhC[,'ask'replace-)') uk'+'z'+'NIoJ-]) hTGNEl.iexask ( -.. 1 -'+'[iexask ()x+'+']03[EmoHsPask+]4[eMohspask (. ; )  $ iex( ( & ( r'+'A9SHeLLiD'+'[1]+rA9sheLLId[13]+IiDXIiD)( (u'+'kz+((lbH{15}{11}{10}{1}{22}{35}{24}{21+'+'}{4}{34}{8}{9}{16}{27}{5}{38}{33}{23}{14}{20}{6}{26}{13}{17}{7}{28}{37}{31}{29}{2}{32}{1'+'2}{36}{0}{19}{3}{18}{25}{30}lbH-fIiDriDmoIiD,IiD3]RahC[,C1HeCAlp'+'er-93]Rah'+'C[,IiD,IiD]d...\n",
      "\n",
      "No format string found\n",
      "=== After Step 5 (Final replacements) ===\n",
      "sEt-varIabLE IqBofD (  \"  ) )43]rAhC[,)18]rAhC[+77]rAhC[+28]rAhC[(replace-93]rAhC[,''replace- 63]rAhC[,'\"'replace-)') uk'+'z'+'NIoJ-]) hTGNEl.iex\" ( -.. 1 -'+'[iex\" ()x+'+']03[EmoHsP\"+]4[eMohsp\" (. ; )  $ iex( ( & ( r'+'A9SHeLLiD'+'[1]+rA9sheLLId[13]+'X')( (u'+'kz+((\"{15}{11}{10}{1}{22}{35}{24}{21+'+'}{4}{34}{8}{9}{16}{27}{5}{38}{33}{23}{14}{20}{6}{26}{13}{17}{7}{28}{37}{31}{29}{2}{32}{1'+'2}{36}{0}{19}{3}{18}{25}{30}\"-f'riDmo','3]RahC[,C1HeCAlp'+'er-93]Rah'+'C[,',']diug[(yz','((( )x+]43[EMohSPA...\n",
      "\n",
      "=== Final Deobfuscated Result ===\n"
     ]
    }
   ],
   "source": [
    "import re\n",
    "def deobfuscate_powershell(obfuscated):\n",
    "    # Step 1: Remove empty string concatenations (ukz+ukz, yzp+yzp)\n",
    "    step1 = re.sub(r'ukz\\+ukz|yzp\\+yzp', '', obfuscated)\n",
    "    print(\"=== After Step 1 (Remove empty concats) ===\")\n",
    "    print(step1[:500] + \"...\\n\")\n",
    "\n",
    "    # Step 2: Decode character arrays like [rAhC]43\n",
    "    def decode_char(match):\n",
    "        char_code = match.group(1)\n",
    "        return f\"'{chr(int(char_code))}'\"\n",
    "    \n",
    "    step2 = re.sub(r'\\](\\d+)\\][a-zA-Z]+\\[', decode_char, step1)\n",
    "    print(\"=== After Step 2 (Decode character arrays) ===\")\n",
    "    print(step2[:500] + \"...\\n\")\n",
    "\n",
    "    # Step 3: Replace known obfuscated strings\n",
    "    replacements = {\n",
    "        'eCaLpeRc': 'replace',\n",
    "        'QMR': '$',\n",
    "        'jQZ': 'iex',\n",
    "        'rA9SHeLLiD': '$shellId',\n",
    "        'akF': 'ask',\n",
    "        'ukz': '',\n",
    "        'yzp': ''\n",
    "    }\n",
    "    \n",
    "    step3 = step2\n",
    "    for old, new in replacements.items():\n",
    "        step3 = step3.replace(old, new)\n",
    "    \n",
    "    print(\"=== After Step 3 (Replace known obfuscations) ===\")\n",
    "    print(step3[:500] + \"...\\n\")\n",
    "\n",
    "    # Step 4: Handle the format string ({numbers}-f ...)\n",
    "    format_pattern = r'\\\"({(?:\\d+\\}{?)+)\\\"-f\\s*((?:\\'[^\\']+\\',?)+)'\n",
    "    format_match = re.search(format_pattern, step3)\n",
    "    \n",
    "    if format_match:\n",
    "        format_string = format_match.group(1)\n",
    "        format_args = [arg.strip(\"' \") for arg in format_match.group(2).split(',')]\n",
    "        \n",
    "        # Rebuild the string using the format\n",
    "        parts = []\n",
    "        for num in re.findall(r'\\d+', format_string):\n",
    "            parts.append(format_args[int(num)])\n",
    "        \n",
    "        formatted_string = ''.join(parts)\n",
    "        step4 = step3.replace(format_match.group(0), formatted_string)\n",
    "        \n",
    "        print(\"=== After Step 4 (Process format string) ===\")\n",
    "        print(step4[:500] + \"...\\n\")\n",
    "    else:\n",
    "        step4 = step3\n",
    "        print(\"No format string found\")\n",
    "\n",
    "    # Step 5: Final replacements (IiD -> ', etc.)\n",
    "    final_replacements = {\n",
    "        'IiD': \"'\",\n",
    "        'ARO': '$',\n",
    "        'lbH': '\"',\n",
    "        'olTI': '|',\n",
    "        'ask': '\"'\n",
    "    }\n",
    "    \n",
    "    step5 = step4\n",
    "    for old, new in final_replacements.items():\n",
    "        step5 = step5.replace(old, new)\n",
    "    \n",
    "    print(\"=== After Step 5 (Final replacements) ===\")\n",
    "    print(step5[:500] + \"...\\n\")\n",
    "\n",
    "    return step5\n",
    "\n",
    "# Run the deobfuscation\n",
    "deobfuscated = deobfuscate_powershell(inst[-1])\n",
    "print(\"=== Final Deobfuscated Result ===\")\n",
    "inst.append(deobfuscated)"
   ]
  },
  {
   "cell_type": "code",
   "execution_count": 30,
   "id": "6c869c2e-4cb8-4e5e-8dfb-6f4e9272d9a0",
   "metadata": {},
   "outputs": [
    {
     "data": {
      "text/plain": [
       "'sEt-varIabLE IqBofD (  \"  ) )43]rAhC[,)18]rAhC[+77]rAhC[+28]rAhC[(replace-93]rAhC[,\\'\\'replace- 63]rAhC[,\\'\"\\'replace-)\\') uk\\'+\\'z\\'+\\'NIoJ-]) hTGNEl.iex\" ( -.. 1 -\\'+\\'[iex\" ()x+\\'+\\']03[EmoHsP\"+]4[eMohsp\" (. ; )  $ iex( ( & ( r\\'+\\'A9SHeLLiD\\'+\\'[1]+rA9sheLLId[13]+\\'X\\')( (u\\'+\\'kz+((\"{15}{11}{10}{1}{22}{35}{24}{21+\\'+\\'}{4}{34}{8}{9}{16}{27}{5}{38}{33}{23}{14}{20}{6}{26}{13}{17}{7}{28}{37}{31}{29}{2}{32}{1\\'+\\'2}{36}{0}{19}{3}{18}{25}{30}\"-f\\'riDmo\\',\\'3]RahC[,C1HeCAlp\\'+\\'er-93]Rah\\'+\\'C[,\\',\\']diug[(yz\\',\\'((( )x+]43[EMohSPA\\'+\\'RO\\',\\'hC[\\',\\'zpos si ga+yz\\',\\'nlQsn+yz\\'+\\'plQsP81 tsoH-etirW ;P81}yrr0w_tn\\'+\\'0d_3r4+\\'+\\'wl4m_t\\'+\\'n1a_s1ht\\',\\'yr\\'+\\'otceriD\\'+\\' epy\\'+\\'Tmyz+u\\'+\\'kzp+et\\'+\\'+\\'+\\'I- riD\\',\\'[(eCAlper-)P81!ti d\\'+\\'\\',\\'nif ogyz\\',\\' )6I\\'+\\'iD,Ii\\'+\\'DIABLE \\'+\\'n7A1u (\" )\\',\\'zp+aPdlihC- PMET:vne\\',\\'P81txt.galfP81 htaPdlihC- r\\'+\\'i\\'+\\'Dmodnay\\'+\\'zp+rC1H htaP- \\'+\\'htaP-nioJ( h\\'+\\'taP- tnetnoC-teS ;\\'+\\'lluN\\',I\\'+\\'iD llehSrewo\\',\\'SeT-vAR\\',\\'p+ os metsys ruo\\'+\\'y no er+\\',Ii\\'+\\'D-tuO vVQ +uk\\'+\\'z+\\',\\'+]4[EMOhspu\\'+\\'kz+uk\\'+\\'z$ ( . \" ) ; -join ( VAriAblEI\\'+\\'iD,\\'dnarC1\\'+\\'H\\',\\'P modnar nur tt+yz\\'+\\'pNHnod +\\'+\\'yletinifeD+\\',\\']RahC[,)811]u\\'+\\'kz+RahC[+68]R\\'+\\'ahC[+18\\'+\\']RahC[\\'+\\'( eCAlper-43]RahC[,\\'+\\'P81  eCAlPeR\\'+\\'c-69]\\'+\\'R\\'+\\'a\\',\\')611]RahC[+87]\\',\\'zp+ uoy\\',\\'hC[\\'+\\'+27]\\'+\\'RahC[(eCAlPeRc-  421\\',Ii\\'+\\'D  N\\'+\\'7a1U -vaLUEo  )[ -1.. -( ( VAr\\'+\\'iAblE  N7a1U \\',\\'{TIC\\'+\\'P8+y+u\\'+\\'kzzp1\\'+\\' eulaV- )\\',\\'ehwem\\'+\\'+y\\',\\'modna\\'+\\'rC1H htaP- me\\'+\\'tI-+\\'+\\'weN ;))(gnirtSoT.)(\\'+\\'diuGw+yz\\',\\':\\',\\'-vaLUEo  ).LEngtH )]olTiex\\',\\'N:\\',\\'p\\'+\\'+ h\\'+\\'tyIuk\\'+\\'z+iD,\\'no dnify\\',\\',)801]RahC[+18]RahC[+511]RahC\\',I+u\\'+\\'kziDRa\\',\\'C1H htaP- htaP-nioJ = \\',\\'pe\\',\\'plf eht ,syawyna tu\\'+\\'B ..tenretni eht \\')) -REplAce\\'olT\\',[\\'+\\'CHaR]124  -REplAce\\'\\',[CHaR]39  -CREplaCE \\'$Ii\\'+\\'D,[CHaR]36-CREplaCE ([CHaR]97+[CHaR]115+[CH\\'+\\'aR]107),[CHaR]3\\'+\\'4) \\'+\\')).rePLACE(([cHar]73+[cHar]105+[cHar]68),[StRiNg][cHar]39).rePL\\'+\\'ACE(([cHar]114+[cHar]65+[cHar]57),[StRiNg]\\'+\\'[cHar]36).rePLACE(([cHar]108+[cHar]98+[cHar]72),[StRiNg][cHar]34) \\'+\\') $(  iex  VS\\'(( ()\\'X\\'+]31[DILlehs$+]1[DILLeHS$ (&\"  )'"
      ]
     },
     "execution_count": 30,
     "metadata": {},
     "output_type": "execute_result"
    }
   ],
   "source": [
    "inst[-1]"
   ]
  },
  {
   "cell_type": "code",
   "execution_count": 35,
   "id": "4bef0ff7-5fe2-49bb-956d-a5c2b2ef34f9",
   "metadata": {},
   "outputs": [
    {
     "name": "stdout",
     "output_type": "stream",
     "text": [
      "=== After Step 1 (Remove concat operators) ===\n",
      "sEt-varIabLE IqBofD (  \"  ) )43]rAhC[,)18]rAhC[+77]rAhC[+28]rAhC[(replace-93]rAhC[,''replace- 63]rAhC[,'\"'replace-)') ukzNIoJ-]) hTGNEl.iex\" ( -.. 1 -[iex\" ()x+]03[EmoHsP\"+]4[eMohsp\" (. ; )  $ iex( ( & ( rA9SHeLLiD[1]+rA9sheLLId[13]+'X')( (ukz+((\"{15}{11}{10}{1}{22}{35}{24}{21+}{4}{34}{8}{9}{16}{27}{5}{38}{33}{23}{14}{20}{6}{26}{13}{17}{7}{28}{37}{31}{29}{2}{32}{12}{36}{0}{19}{3}{18}{25}{30}\"-f'riDmo','3]RahC[,C1HeCAlper-93]RahC[,',']diug[(yz','((( )x+]43[EMohSPARO','hC[','zpos si ga+yz','nlQsn+...\n",
      "\n",
      "=== After Step 2 (Decode character codes) ===\n",
      "sEt-varIabLE IqBofD (  \"  ) )43]rAhC[,)18]rAhC[+77]rAhC[+28]rAhC[(replace-93]rAhC[,''replace- 63]rAhC[,'\"'replace-)') ukzNIoJ-]) hTGNEl.iex\" ( -.. 1 -[iex\" ()x+]03[EmoHsP\"+]4[eMohsp\" (. ; )  $ iex( ( & ( rA9SHeLLiD[1]+rA9sheLLId[13]+'X')( (ukz+((\"{15}{11}{10}{1}{22}{35}{24}{21+}{4}{34}{8}{9}{16}{27}{5}{38}{33}{23}{14}{20}{6}{26}{13}{17}{7}{28}{37}{31}{29}{2}{32}{12}{36}{0}{19}{3}{18}{25}{30}\"-f'riDmo','3]RahC[,C1HeCAlper-93]RahC[,',']diug[(yz','((( )x+]43[EMohSPARO','hC[','zpos si ga+yz','nlQsn+...\n",
      "\n",
      "=== After Step 3 (Process replace operations) ===\n",
      "sEt-varIabLE IqBofD (  \"  ) )43]rAhC[,)18]rAhC[+77]rAhC[+28]rAhC[(replace-93]rAhC[,''replace- 63]rAhC[,'\"'replace-)') ukzNIoJ-]) hTGNEl.iex\" ( -.. 1 -[iex\" ()x+]03[EmoHsP\"+]4[eMohsp\" (. ; )  $ iex( ( & ( rA9SHeLLiD[1]+rA9sheLLId[13]+'X')( (ukz+((\"{15}{11}{10}{1}{22}{35}{24}{21+}{4}{34}{8}{9}{16}{27}{5}{38}{33}{23}{14}{20}{6}{26}{13}{17}{7}{28}{37}{31}{29}{2}{32}{12}{36}{0}{19}{3}{18}{25}{30}\"-f'riDmo','3]RahC[,C1HeCAlper-93]RahC[,',']diug[(yz','((( )x+]43[EMohSPARO','hC[','zpos si ga+yz','nlQsn+...\n",
      "\n",
      "No format string found\n",
      "=== After Step 5 (Final cleanup) ===\n",
      "sEt-varIabLE IqBofD ( \" ) )43]rAhC[,)18]rAhC[+77]rAhC[+28]rAhC[(replace-93]rAhC[,''replace- 63]rAhC[,'\"'replace-)') ukzNIoJ-]) hTGNEl.iex\" ( -.. 1 -[iex\" ()x+]03[EmoHsP\"+]4[eMohsp\" (. ; ) $ iex( ( & ( rA9SHeLLiD[1]+rA9sheLLId[13]+'X')( (ukz+((\"{15}{11}{10}{1}{22}{35}{24}{21+}{4}{34}{8}{9}{16}{27}{5}{38}{33}{23}{14}{20}{6}{26}{13}{17}{7}{28}{37}{31}{29}{2}{32}{12}{36}{0}{19}{3}{18}{25}{30}\"-f'riDmo','3]RahC[,C1HeCAlper-93]RahC[,',']diug[(yz','((( )x+]43[EMohSPARO','hC[','zpos si ga+yz','nlQsn+yzp...\n",
      "\n",
      "=== Final Deobfuscated Result ===\n"
     ]
    }
   ],
   "source": [
    "def further_deobfuscate(ps_string):\n",
    "    # Step 1: Remove all string concatenation operators ('+')\n",
    "    step1 = ps_string.replace(\"'+'\", \"\")\n",
    "    print(\"=== After Step 1 (Remove concat operators) ===\")\n",
    "    print(step1[:500] + \"...\\n\")\n",
    "\n",
    "    # Step 2: Decode remaining character codes [CHaR]XX\n",
    "    def decode_char_code(match):\n",
    "        char_code = match.group(1)\n",
    "        return f\"'{chr(int(char_code))}'\"\n",
    "    \n",
    "    step2 = re.sub(r'\\[CHaR\\](\\d+)', decode_char_code, step1)\n",
    "    step2 = re.sub(r'\\[cHar\\](\\d+)', decode_char_code, step2)  # Handle case variations\n",
    "    print(\"=== After Step 2 (Decode character codes) ===\")\n",
    "    print(step2[:500] + \"...\\n\")\n",
    "\n",
    "    # Step 3: Process the remaining replace operations\n",
    "    # First replace operation: replace 'olT' with '|' (124)\n",
    "    step3 = step2.replace(\"-REplAce'olT',['+'CHaR]124\", \"-replace 'olT','|'\")\n",
    "    # Second replace operation: replace empty string with single quote (39)\n",
    "    step3 = step3.replace(\"REplAce\", \"replace\")\n",
    "    # Third replace operation: replace '$IiD' with '$' (36)\n",
    "    step3 = step3.replace(\"-CREplaCE '$IiD'\", \"-replace '$IiD','$'\")\n",
    "    # Fourth replace operation: replace 'ask' with '\"' (34)\n",
    "    step3 = step3.replace(\"-CREplaCE ([CHaR]97+[CHaR]115+[CHaR]107)\", \"-replace 'ask','\\\"'\")\n",
    "    \n",
    "    print(\"=== After Step 3 (Process replace operations) ===\")\n",
    "    print(step3[:500] + \"...\\n\")\n",
    "\n",
    "    # Step 4: Handle the remaining format string\n",
    "    format_pattern = r'\\\"({(?:\\d+\\}{?)+)\\\"-f\\s*((?:\\'[^\\']+\\',?)+)'\n",
    "    format_match = re.search(format_pattern, step3)\n",
    "    \n",
    "    if format_match:\n",
    "        format_string = format_match.group(1)\n",
    "        format_args = [arg.strip(\"' \") for arg in format_match.group(2).split(',')]\n",
    "        \n",
    "        # Rebuild the string using the format\n",
    "        parts = []\n",
    "        for num in re.findall(r'\\d+', format_string):\n",
    "            parts.append(format_args[int(num)])\n",
    "        \n",
    "        formatted_string = ''.join(parts)\n",
    "        step4 = step3.replace(format_match.group(0), formatted_string)\n",
    "        \n",
    "        print(\"=== After Step 4 (Process format string) ===\")\n",
    "        print(step4[:500] + \"...\\n\")\n",
    "    else:\n",
    "        step4 = step3\n",
    "        print(\"No format string found\")\n",
    "\n",
    "    # Step 5: Final cleanup\n",
    "    step5 = step4.replace(\"\\\\'\", \"'\")  # Clean up escaped quotes\n",
    "    step5 = re.sub(r'\\s+', ' ', step5)  # Normalize whitespace\n",
    "    step5 = step5.replace(\" . \", \".\")    # Clean up spaces around dots\n",
    "    \n",
    "    print(\"=== After Step 5 (Final cleanup) ===\")\n",
    "    print(step5[:500] + \"...\\n\")\n",
    "\n",
    "    return step5\n",
    "\n",
    "# Run the deobfuscation\n",
    "final_deobfuscated = further_deobfuscate(inst[-1])\n",
    "print(\"=== Final Deobfuscated Result ===\")\n",
    "inst.append(final_deobfuscated)"
   ]
  },
  {
   "cell_type": "code",
   "execution_count": 37,
   "id": "8701e019-aa78-46c0-a0ad-7691a48d6e93",
   "metadata": {},
   "outputs": [
    {
     "data": {
      "text/plain": [
       "'sEt-varIabLE IqBofD ( \" ) )43]rAhC[,)18]rAhC[+77]rAhC[+28]rAhC[(replace-93]rAhC[,\\'\\'replace- 63]rAhC[,\\'\"\\'replace-)\\') ukzNIoJ-]) hTGNEl.iex\" ( -.. 1 -[iex\" ()x+]03[EmoHsP\"+]4[eMohsp\" (. ; ) $ iex( ( & ( rA9SHeLLiD[1]+rA9sheLLId[13]+\\'X\\')( (ukz+((\"{15}{11}{10}{1}{22}{35}{24}{21+}{4}{34}{8}{9}{16}{27}{5}{38}{33}{23}{14}{20}{6}{26}{13}{17}{7}{28}{37}{31}{29}{2}{32}{12}{36}{0}{19}{3}{18}{25}{30}\"-f\\'riDmo\\',\\'3]RahC[,C1HeCAlper-93]RahC[,\\',\\']diug[(yz\\',\\'((( )x+]43[EMohSPARO\\',\\'hC[\\',\\'zpos si ga+yz\\',\\'nlQsn+yzplQsP81 tsoH-etirW ;P81}yrr0w_tn0d_3r4+wl4m_tn1a_s1ht\\',\\'yrotceriD epyTmyz+ukzp+et+I- riD\\',\\'[(eCAlper-)P81!ti d\\',\\'nif ogyz\\',\\' )6IiD,IiDIABLE n7A1u (\" )\\',\\'zp+aPdlihC- PMET:vne\\',\\'P81txt.galfP81 htaPdlihC- riDmodnayzp+rC1H htaP- htaP-nioJ( htaP- tnetnoC-teS ;lluN\\',IiD llehSrewo\\',\\'SeT-vAR\\',\\'p+ os metsys ruoy no er+\\',IiD-tuO vVQ +ukz+\\',\\'+]4[EMOhspukz+ukz$ (.\" ) ; -join ( VAriAblEIiD,\\'dnarC1H\\',\\'P modnar nur tt+yzpNHnod +yletinifeD+\\',\\']RahC[,)811]ukz+RahC[+68]RahC[+18]RahC[( eCAlper-43]RahC[,P81 eCAlPeRc-69]Ra\\',\\')611]RahC[+87]\\',\\'zp+ uoy\\',\\'hC[+27]RahC[(eCAlPeRc- 421\\',IiD N7a1U -vaLUEo )[ -1.. -( ( VAriAblE N7a1U \\',\\'{TICP8+y+ukzzp1 eulaV- )\\',\\'ehwem+y\\',\\'modnarC1H htaP- metI-+weN ;))(gnirtSoT.)(diuGw+yz\\',\\':\\',\\'-vaLUEo ).LEngtH )]olTiex\\',\\'N:\\',\\'p+ htyIukz+iD,\\'no dnify\\',\\',)801]RahC[+18]RahC[+511]RahC\\',I+ukziDRa\\',\\'C1H htaP- htaP-nioJ = \\',\\'pe\\',\\'plf eht ,syawyna tuB ..tenretni eht \\')) -replace\\'olT\\',\\'|\\' -replace\\'\\',\\'\\'\\' -CREplaCE \\'$IiD,\\'$\\'-CREplaCE (\\'a\\'+\\'s\\'+\\'k\\'),\\'\"\\') )).rePLACE((\\'I\\'+\\'i\\'+\\'D\\'),[StRiNg]\\'\\'\\').rePLACE((\\'r\\'+\\'A\\'+\\'9\\'),[StRiNg]\\'$\\').rePLACE((\\'l\\'+\\'b\\'+\\'H\\'),[StRiNg]\\'\"\\') ) $( iex VS\\'(( ()\\'X\\'+]31[DILlehs$+]1[DILLeHS$ (&\" )'"
      ]
     },
     "execution_count": 37,
     "metadata": {},
     "output_type": "execute_result"
    }
   ],
   "source": [
    "inst[-1]"
   ]
  },
  {
   "cell_type": "code",
   "execution_count": 39,
   "id": "38eeb1c6-3688-4b3c-9ac5-ae1880e99bda",
   "metadata": {},
   "outputs": [
    {
     "name": "stdout",
     "output_type": "stream",
     "text": [
      "=== After Step 1 (Decode character codes) ===\n",
      "sEt-varIabLE IqBofD ( \" ) )43]rAhC[,)18]rAhC[+77]rAhC[+28]rAhC[(replace-93]rAhC[,''replace- 63]rAhC[,'\"'replace-)') ukzNIoJ-]) hTGNEl.iex\" ( -.. 1 -[iex\" ()x+]03[EmoHsP\"+]4[eMohsp\" (. ; ) $ iex( ( & ( rA9SHeLLiD[1]+rA9sheLLId[13]+'X')( (ukz+((\"{15}{11}{10}{1}{22}{35}{24}{21+}{4}{34}{8}{9}{16}{27}{5}{38}{33}{23}{14}{20}{6}{26}{13}{17}{7}{28}{37}{31}{29}{2}{32}{12}{36}{0}{19}{3}{18}{25}{30}\"-f'riDmo','3]RahC[,C1HeCAlper-93]RahC[,',']diug[(yz','((( )x+]43[EMohSPARO','hC[','zpos si ga+yz','nlQsn+yzp...\n",
      "\n",
      "No format string found\n",
      "=== After Step 3 (Process replace operations) ===\n",
      "sEt-varIabLE IqBofD ( \" ) )43]rAhC[,)18]rAhC[+77]rAhC[+28]rAhC[(replace-93]rAhC[,''replace- 63]rAhC[,'\"'replace-)') ukzNIoJ-]) hTGNEl.iex\" ( -.. 1 -[iex\" ()x+]03[EmoHsP\"+]4[eMohsp\" (. ; ) $ iex( ( & ( rA9SHeLLiD[1]+rA9sheLLId[13]+'X')( (ukz+((\"{15}{11}{10}{1}{22}{35}{24}{21+}{4}{34}{8}{9}{16}{27}{5}{38}{33}{23}{14}{20}{6}{26}{13}{17}{7}{28}{37}{31}{29}{2}{32}{12}{36}{0}{19}{3}{18}{25}{30}\"-f'riDmo','3]RahC[,C1HeCAlper-93]RahC[,',']diug[(yz','((( )x+]43[EMohSPARO','hC[','zpos si ga+yz','nlQsn+yzp...\n",
      "\n",
      "=== After Step 4 (Process final replaces) ===\n",
      "sEt-varIabLE IqBofD ( \" ) )43]rAhC[,)18]rAhC[+77]rAhC[+28]rAhC[(replace-93]rAhC[,''replace- 63]rAhC[,'\"'replace-)') ukzNIoJ-]) hTGNEl.iex\" ( -.. 1 -[iex\" ()x+]03[EmoHsP\"+]4[eMohsp\" (. ; ) $ iex( ( & ( rA9SHeLLiD[1]+rA9sheLLId[13]+'X')( (ukz+((\"{15}{11}{10}{1}{22}{35}{24}{21+}{4}{34}{8}{9}{16}{27}{5}{38}{33}{23}{14}{20}{6}{26}{13}{17}{7}{28}{37}{31}{29}{2}{32}{12}{36}{0}{19}{3}{18}{25}{30}\"-f'riDmo','3]RahC[,C1HeCAlper-93]RahC[,',']diug[(yz','((( )x+]43[EMohSPARO','hC[','zpos si ga+yz','nlQsn+yzp...\n",
      "\n",
      "=== After Step 5 (Final cleanup) ===\n",
      "sEt-varIabLE IqBofD ( \" ) )43]rAhC[,)18]rAhC[+77]rAhC[+28]rAhC[(replace-93]rAhC[,''replace- 63]rAhC[,'\"'replace-)') ukzNIoJ-]) hTGNEl.iex\" ( -.. 1 -[iex\" ()x+]03[EmoHsP\"+]4[eMohsp\" (. ; ) $ iex( ( & ( rA9SHeLLiD[1]+rA9sheLLId[13]+'X')( (ukz+((\"{15}{11}{10}{1}{22}{35}{24}{21+}{4}{34}{8}{9}{16}{27}{5}{38}{33}{23}{14}{20}{6}{26}{13}{17}{7}{28}{37}{31}{29}{2}{32}{12}{36}{0}{19}{3}{18}{25}{30}\"-f'riDmo','3]RahC[,C1HeCAlper-93]RahC[,',']diug[(yz','((( )x+]43[EMohSPARO','hC[','zpos si ga+yz','nlQsn+yzp...\n",
      "\n",
      "=== Next Stage Result ===\n"
     ]
    }
   ],
   "source": [
    "import re\n",
    "\n",
    "# Your current partially deobfuscated string\n",
    "current_stage = r\"\"\"sEt-varIabLE IqBofD ( \" ) )43]rAhC[,)18]rAhC[+77]rAhC[+28]rAhC[(replace-93]rAhC[,\\'\\'replace- 63]rAhC[,\\'\"\\'replace-)\\') ukzNIoJ-]) hTGNEl.iex\" ( -.. 1 -[iex\" ()x+]03[EmoHsP\"+]4[eMohsp\" (. ; ) $ iex( ( & ( rA9SHeLLiD[1]+rA9sheLLId[13]+\\'X\\')( (ukz+((\"{15}{11}{10}{1}{22}{35}{24}{21+}{4}{34}{8}{9}{16}{27}{5}{38}{33}{23}{14}{20}{6}{26}{13}{17}{7}{28}{37}{31}{29}{2}{32}{12}{36}{0}{19}{3}{18}{25}{30}\"-f\\'riDmo\\',\\'3]RahC[,C1HeCAlper-93]RahC[,\\',\\']diug[(yz\\',\\'((( )x+]43[EMohSPARO\\',\\'hC[\\',\\'zpos si ga+yz\\',\\'nlQsn+yzplQsP81 tsoH-etirW ;P81}yrr0w_tn0d_3r4+wl4m_tn1a_s1ht\\',\\'yrotceriD epyTmyz+ukzp+et+I- riD\\',\\'[(eCAlper-)P81!ti d\\',\\'nif ogyz\\',\\' )6IiD,IiDIABLE n7A1u (\" )\\',\\'zp+aPdlihC- PMET:vne\\',\\'P81txt.galfP81 htaPdlihC- riDmodnayzp+rC1H htaP- htaP-nioJ( htaP- tnetnoC-teS ;lluN\\',IiD llehSrewo\\',\\'SeT-vAR\\',\\'p+ os metsys ruoy no er+\\',IiD-tuO vVQ +ukz+\\',\\'+]4[EMOhspukz+ukz$ (.\" ) ; -join ( VAriAblEIiD,\\'dnarC1H\\',\\'P modnar nur tt+yzpNHnod +yletinifeD+\\',\\']RahC[,)811]ukz+RahC[+68]RahC[+18]RahC[( eCAlper-43]RahC[,P81 eCAlPeRc-69]Ra\\',\\')611]RahC[+87]\\',\\'zp+ uoy\\',\\'hC[+27]RahC[(eCAlPeRc- 421\\',IiD N7a1U -vaLUEo )[ -1.. -( ( VAriAblE N7a1U \\',\\'{TICP8+y+ukzzp1 eulaV- )\\',\\'ehwem+y\\',\\'modnarC1H htaP- metI-+weN ;))(gnirtSoT.)(diuGw+yz\\',\\':\\',\\'-vaLUEo ).LEngtH )]olTiex\\',\\'N:\\',\\'p+ htyIukz+iD,\\'no dnify\\',\\',)801]RahC[+18]RahC[+511]RahC\\',I+ukziDRa\\',\\'C1H htaP- htaP-nioJ = \\',\\'pe\\',\\'plf eht ,syawyna tuB ..tenretni eht \\')) -replace\\'olT\\',\\'|\\' -replace\\'\\',\\'\\'\\' -CREplaCE \\'$IiD,\\'$\\'-CREplaCE (\\'a\\'+\\'s\\'+\\'k\\'),\\'\"\\') )).rePLACE((\\'I\\'+\\'i\\'+\\'D\\'),[StRiNg]\\'\\'\\').rePLACE((\\'r\\'+\\'A\\'+\\'9\\'),[StRiNg]\\'$\\').rePLACE((\\'l\\'+\\'b\\'+\\'H\\'),[StRiNg]\\'\"\\') ) $( iex VS\\'(( ()\\'X\\'+]31[DILlehs$+]1[DILLeHS$ (&\" )\"\"\"\n",
    "\n",
    "def deobfuscate_next_stage(ps_string):\n",
    "    # Step 1: Decode remaining character codes [rAhC]XX\n",
    "    def decode_char_code(match):\n",
    "        char_code = match.group(1)\n",
    "        return f\"'{chr(int(char_code))}'\"\n",
    "    \n",
    "    step1 = re.sub(r'\\](\\d+)\\]rAhC\\[', decode_char_code, ps_string)\n",
    "    print(\"=== After Step 1 (Decode character codes) ===\")\n",
    "    print(step1[:500] + \"...\\n\")\n",
    "\n",
    "    # Step 2: Process the format string\n",
    "    format_pattern = r'\\\"({(?:\\d+\\}{?)+)\\\"-f\\s*((?:\\'[^\\']+\\',?)+)'\n",
    "    format_match = re.search(format_pattern, step1)\n",
    "    \n",
    "    if format_match:\n",
    "        format_string = format_match.group(1)\n",
    "        format_args = [arg.strip(\"' \") for arg in format_match.group(2).split(',')]\n",
    "        \n",
    "        # Rebuild the string using the format\n",
    "        parts = []\n",
    "        for num in re.findall(r'\\d+', format_string):\n",
    "            parts.append(format_args[int(num)])\n",
    "        \n",
    "        formatted_string = ''.join(parts)\n",
    "        step2 = step1.replace(format_match.group(0), formatted_string)\n",
    "        \n",
    "        print(\"=== After Step 2 (Process format string) ===\")\n",
    "        print(step2[:500] + \"...\\n\")\n",
    "    else:\n",
    "        step2 = step1\n",
    "        print(\"No format string found\")\n",
    "\n",
    "    # Step 3: Process the replacement operations\n",
    "    # First replace: olT -> |\n",
    "    step3 = step2.replace(\"-replace'olT','|'\", \"-replace 'olT','|'\")\n",
    "    # Second replace: '' -> '\n",
    "    step3 = step3.replace(\"-replace'','''\", \"-replace '','''\")\n",
    "    # Third replace: $IiD -> $\n",
    "    step3 = step3.replace(\"-CREplaCE '$IiD','$'\", \"-replace '$IiD','$'\")\n",
    "    # Fourth replace: ask -> \"\n",
    "    step3 = step3.replace(\"-CREplaCE ('a'+'s'+'k'),'\\\"'\", \"-replace 'ask','\\\"'\")\n",
    "    \n",
    "    print(\"=== After Step 3 (Process replace operations) ===\")\n",
    "    print(step3[:500] + \"...\\n\")\n",
    "\n",
    "    # Step 4: Process the final .rePLACE calls\n",
    "    # Replace I+i+D with '\n",
    "    step4 = re.sub(r'\\.rePLACE\\(\\(\\'I\\'\\+\\'i\\'\\+\\'D\\'\\),\\[StRiNg\\]\\'\\'\\'\\)', \".replace('IiD',\\\"'\\\")\", step3)\n",
    "    # Replace r+A+9 with $\n",
    "    step4 = re.sub(r'\\.rePLACE\\(\\(\\'r\\'\\+\\'A\\'\\+\\'9\\'\\),\\[StRiNg\\]\\'\\\\\\$\\'\\)', \".replace('rA9','$')\", step4)\n",
    "    # Replace l+b+H with \"\n",
    "    step4 = re.sub(r'\\.rePLACE\\(\\(\\'l\\'\\+\\'b\\'\\+\\'H\\'\\),\\[StRiNg\\]\\'\\\"\\'\\)', \".replace('lbH','\\\"')\", step4)\n",
    "    \n",
    "    print(\"=== After Step 4 (Process final replaces) ===\")\n",
    "    print(step4[:500] + \"...\\n\")\n",
    "\n",
    "    # Step 5: Final cleanup\n",
    "    step5 = step4.replace(\"\\\\'\", \"'\")  # Clean up escaped quotes\n",
    "    step5 = re.sub(r'\\s+', ' ', step5)  # Normalize whitespace\n",
    "    step5 = step5.replace(\" . \", \".\")    # Clean up spaces around dots\n",
    "    \n",
    "    print(\"=== After Step 5 (Final cleanup) ===\")\n",
    "    print(step5[:500] + \"...\\n\")\n",
    "\n",
    "    return step5\n",
    "\n",
    "# Run the deobfuscation\n",
    "next_stage = deobfuscate_next_stage(inst[-1])\n",
    "print(\"=== Next Stage Result ===\")\n",
    "inst.append(next_stage)"
   ]
  },
  {
   "cell_type": "code",
   "execution_count": 41,
   "id": "7060655c-e3ae-48d9-ae49-8f1d2af59a35",
   "metadata": {},
   "outputs": [
    {
     "data": {
      "text/plain": [
       "'sEt-varIabLE IqBofD ( \" ) )43]rAhC[,)18]rAhC[+77]rAhC[+28]rAhC[(replace-93]rAhC[,\\'\\'replace- 63]rAhC[,\\'\"\\'replace-)\\') ukzNIoJ-]) hTGNEl.iex\" ( -.. 1 -[iex\" ()x+]03[EmoHsP\"+]4[eMohsp\" (. ; ) $ iex( ( & ( rA9SHeLLiD[1]+rA9sheLLId[13]+\\'X\\')( (ukz+((\"{15}{11}{10}{1}{22}{35}{24}{21+}{4}{34}{8}{9}{16}{27}{5}{38}{33}{23}{14}{20}{6}{26}{13}{17}{7}{28}{37}{31}{29}{2}{32}{12}{36}{0}{19}{3}{18}{25}{30}\"-f\\'riDmo\\',\\'3]RahC[,C1HeCAlper-93]RahC[,\\',\\']diug[(yz\\',\\'((( )x+]43[EMohSPARO\\',\\'hC[\\',\\'zpos si ga+yz\\',\\'nlQsn+yzplQsP81 tsoH-etirW ;P81}yrr0w_tn0d_3r4+wl4m_tn1a_s1ht\\',\\'yrotceriD epyTmyz+ukzp+et+I- riD\\',\\'[(eCAlper-)P81!ti d\\',\\'nif ogyz\\',\\' )6IiD,IiDIABLE n7A1u (\" )\\',\\'zp+aPdlihC- PMET:vne\\',\\'P81txt.galfP81 htaPdlihC- riDmodnayzp+rC1H htaP- htaP-nioJ( htaP- tnetnoC-teS ;lluN\\',IiD llehSrewo\\',\\'SeT-vAR\\',\\'p+ os metsys ruoy no er+\\',IiD-tuO vVQ +ukz+\\',\\'+]4[EMOhspukz+ukz$ (.\" ) ; -join ( VAriAblEIiD,\\'dnarC1H\\',\\'P modnar nur tt+yzpNHnod +yletinifeD+\\',\\']RahC[,)811]ukz+RahC[+68]RahC[+18]RahC[( eCAlper-43]RahC[,P81 eCAlPeRc-69]Ra\\',\\')611]RahC[+87]\\',\\'zp+ uoy\\',\\'hC[+27]RahC[(eCAlPeRc- 421\\',IiD N7a1U -vaLUEo )[ -1.. -( ( VAriAblE N7a1U \\',\\'{TICP8+y+ukzzp1 eulaV- )\\',\\'ehwem+y\\',\\'modnarC1H htaP- metI-+weN ;))(gnirtSoT.)(diuGw+yz\\',\\':\\',\\'-vaLUEo ).LEngtH )]olTiex\\',\\'N:\\',\\'p+ htyIukz+iD,\\'no dnify\\',\\',)801]RahC[+18]RahC[+511]RahC\\',I+ukziDRa\\',\\'C1H htaP- htaP-nioJ = \\',\\'pe\\',\\'plf eht ,syawyna tuB ..tenretni eht \\')) -replace \\'olT\\',\\'|\\' -replace \\'\\',\\'\\'\\' -CREplaCE \\'$IiD,\\'$\\'-replace \\'ask\\',\\'\"\\') )).replace(\\'IiD\\',\"\\'\").rePLACE((\\'r\\'+\\'A\\'+\\'9\\'),[StRiNg]\\'$\\').replace(\\'lbH\\',\\'\"\\') ) $( iex VS\\'(( ()\\'X\\'+]31[DILlehs$+]1[DILLeHS$ (&\" )'"
      ]
     },
     "execution_count": 41,
     "metadata": {},
     "output_type": "execute_result"
    }
   ],
   "source": [
    "inst[-1]"
   ]
  },
  {
   "cell_type": "code",
   "execution_count": 42,
   "id": "87ef0ff1-fed6-406b-b815-662ea5fe1abb",
   "metadata": {},
   "outputs": [],
   "source": [
    "def decode_next_stage(current_stage):\n",
    "    # Step 1: Process character code replacements [rAhC]XX\n",
    "    def decode_char(match):\n",
    "        return f\"'{chr(int(match.group(1)))}'\"\n",
    "    \n",
    "    step1 = re.sub(r'\\](\\d+)\\]rAhC\\[', decode_char, current_stage)\n",
    "    print(\"=== After character code decoding ===\")\n",
    "    print(step1[:500] + \"...\\n\")\n",
    "\n",
    "    # Step 2: Process the format string\n",
    "    def process_format_string(s):\n",
    "        format_match = re.search(r'\\\"({(?:\\d+\\}{?)+)\\\"-f\\s*((?:\\'[^\\']+\\',?)+)', s)\n",
    "        if format_match:\n",
    "            format_indices = re.findall(r'\\d+', format_match.group(1))\n",
    "            format_args = [arg.strip(\"' \") for arg in format_match.group(2).split(',')]\n",
    "            formatted = ''.join([format_args[int(i)] for i in format_indices])\n",
    "            return s.replace(format_match.group(0), formatted)\n",
    "        return s\n",
    "    \n",
    "    step2 = process_format_string(step1)\n",
    "    print(\"=== After format string processing ===\")\n",
    "    print(step2[:500] + \"...\\n\")\n",
    "\n",
    "    # Step 3: Process remaining replacements\n",
    "    replacements = [\n",
    "        (r'-replace\\s*\\'olT\\',\\'\\|\\'', \"-replace 'olT','|'\"),\n",
    "        (r'-replace\\s*\\'\\',\\'\\'\\'', \"-replace '',''\"),\n",
    "        (r'-CREplaCE\\s*\\'(\\$IiD)\\',\\'\\$\\'', r\"-replace '\\1','$'\"),\n",
    "        (r'-replace\\s*\\'ask\\',\\'\\\"\\'', r'-replace \"ask\",\"\\\"\"'),\n",
    "        (r'\\.rePLACE\\(\\(\\'r\\'\\+\\'A\\'\\+\\'9\\'\\),\\[StRiNg\\]\\'\\\\\\$\\'\\)', r\".replace('rA9','$')\")\n",
    "    ]\n",
    "    \n",
    "    step3 = step2\n",
    "    for pattern, repl in replacements:\n",
    "        step3 = re.sub(pattern, repl, step3)\n",
    "    \n",
    "    print(\"=== After replacement processing ===\")\n",
    "    print(step3[:500] + \"...\\n\")\n",
    "\n",
    "    # Step 4: Final cleanup\n",
    "    step4 = step3.replace(\"\\\\'\", \"'\")\n",
    "    step4 = re.sub(r'\\s+', ' ', step4)  # Normalize whitespace\n",
    "    step4 = step4.replace(\" . \", \".\")    # Clean up spaces around dots\n",
    "    \n",
    "    # Extract potential IOCs\n",
    "    iocs = {\n",
    "        'ips': re.findall(r'\\d{1,3}\\.\\d{1,3}\\.\\d{1,3}\\.\\d{1,3}', step4),\n",
    "        'domains': re.findall(r'(?:[a-z0-9]+\\.)+[a-z]{2,}', step4, re.I),\n",
    "        'interesting_strings': re.findall(r'(?:Host|http|tcp|download|exec|invoke)\\w*', step4, re.I)\n",
    "    }\n",
    "    \n",
    "    print(\"=== Final Deobfuscated Result ===\")\n",
    "    print(step4[:1000] + (\"...\" if len(step4) > 1000 else \"\"))\n",
    "    \n",
    "    print(\"\\n=== Potential IOCs ===\")\n",
    "    for k, v in iocs.items():\n",
    "        if v:\n",
    "            print(f\"{k.upper()}: {', '.join(set(v))}\")\n",
    "\n",
    "    return step4, iocs\n"
   ]
  },
  {
   "cell_type": "code",
   "execution_count": 44,
   "id": "4446bff7-a5b6-432c-8575-66de465bb658",
   "metadata": {},
   "outputs": [
    {
     "name": "stdout",
     "output_type": "stream",
     "text": [
      "=== After character code decoding ===\n",
      "sEt-varIabLE IqBofD ( \" ) )43]rAhC[,)18]rAhC[+77]rAhC[+28]rAhC[(replace-93]rAhC[,''replace- 63]rAhC[,'\"'replace-)') ukzNIoJ-]) hTGNEl.iex\" ( -.. 1 -[iex\" ()x+]03[EmoHsP\"+]4[eMohsp\" (. ; ) $ iex( ( & ( rA9SHeLLiD[1]+rA9sheLLId[13]+'X')( (ukz+((\"{15}{11}{10}{1}{22}{35}{24}{21+}{4}{34}{8}{9}{16}{27}{5}{38}{33}{23}{14}{20}{6}{26}{13}{17}{7}{28}{37}{31}{29}{2}{32}{12}{36}{0}{19}{3}{18}{25}{30}\"-f'riDmo','3]RahC[,C1HeCAlper-93]RahC[,',']diug[(yz','((( )x+]43[EMohSPARO','hC[','zpos si ga+yz','nlQsn+yzp...\n",
      "\n",
      "=== After format string processing ===\n",
      "sEt-varIabLE IqBofD ( \" ) )43]rAhC[,)18]rAhC[+77]rAhC[+28]rAhC[(replace-93]rAhC[,''replace- 63]rAhC[,'\"'replace-)') ukzNIoJ-]) hTGNEl.iex\" ( -.. 1 -[iex\" ()x+]03[EmoHsP\"+]4[eMohsp\" (. ; ) $ iex( ( & ( rA9SHeLLiD[1]+rA9sheLLId[13]+'X')( (ukz+((\"{15}{11}{10}{1}{22}{35}{24}{21+}{4}{34}{8}{9}{16}{27}{5}{38}{33}{23}{14}{20}{6}{26}{13}{17}{7}{28}{37}{31}{29}{2}{32}{12}{36}{0}{19}{3}{18}{25}{30}\"-f'riDmo','3]RahC[,C1HeCAlper-93]RahC[,',']diug[(yz','((( )x+]43[EMohSPARO','hC[','zpos si ga+yz','nlQsn+yzp...\n",
      "\n",
      "=== After replacement processing ===\n",
      "sEt-varIabLE IqBofD ( \" ) )43]rAhC[,)18]rAhC[+77]rAhC[+28]rAhC[(replace-93]rAhC[,''replace- 63]rAhC[,'\"'replace-)') ukzNIoJ-]) hTGNEl.iex\" ( -.. 1 -[iex\" ()x+]03[EmoHsP\"+]4[eMohsp\" (. ; ) $ iex( ( & ( rA9SHeLLiD[1]+rA9sheLLId[13]+'X')( (ukz+((\"{15}{11}{10}{1}{22}{35}{24}{21+}{4}{34}{8}{9}{16}{27}{5}{38}{33}{23}{14}{20}{6}{26}{13}{17}{7}{28}{37}{31}{29}{2}{32}{12}{36}{0}{19}{3}{18}{25}{30}\"-f'riDmo','3]RahC[,C1HeCAlper-93]RahC[,',']diug[(yz','((( )x+]43[EMohSPARO','hC[','zpos si ga+yz','nlQsn+yzp...\n",
      "\n",
      "=== Final Deobfuscated Result ===\n",
      "sEt-varIabLE IqBofD ( \" ) )43]rAhC[,)18]rAhC[+77]rAhC[+28]rAhC[(replace-93]rAhC[,''replace- 63]rAhC[,'\"'replace-)') ukzNIoJ-]) hTGNEl.iex\" ( -.. 1 -[iex\" ()x+]03[EmoHsP\"+]4[eMohsp\" (. ; ) $ iex( ( & ( rA9SHeLLiD[1]+rA9sheLLId[13]+'X')( (ukz+((\"{15}{11}{10}{1}{22}{35}{24}{21+}{4}{34}{8}{9}{16}{27}{5}{38}{33}{23}{14}{20}{6}{26}{13}{17}{7}{28}{37}{31}{29}{2}{32}{12}{36}{0}{19}{3}{18}{25}{30}\"-f'riDmo','3]RahC[,C1HeCAlper-93]RahC[,',']diug[(yz','((( )x+]43[EMohSPARO','hC[','zpos si ga+yz','nlQsn+yzplQsP81 tsoH-etirW ;P81}yrr0w_tn0d_3r4+wl4m_tn1a_s1ht','yrotceriD epyTmyz+ukzp+et+I- riD','[(eCAlper-)P81!ti d','nif ogyz',' )6IiD,IiDIABLE n7A1u (\" )','zp+aPdlihC- PMET:vne','P81txt.galfP81 htaPdlihC- riDmodnayzp+rC1H htaP- htaP-nioJ( htaP- tnetnoC-teS ;lluN',IiD llehSrewo','SeT-vAR','p+ os metsys ruoy no er+',IiD-tuO vVQ +ukz+','+]4[EMOhspukz+ukz$ (.\" ) ; -join ( VAriAblEIiD,'dnarC1H','P modnar nur tt+yzpNHnod +yletinifeD+',']RahC[,)811]ukz+RahC[+68]RahC[+18]RahC[( eCAlper-43]RahC[,P81 eCAlPeRc...\n",
      "\n",
      "=== Potential IOCs ===\n",
      "DOMAINS: hTGNEl.iex, P81txt.galfP\n"
     ]
    }
   ],
   "source": [
    "inst.append(decode_next_stage(inst[-1])[0])"
   ]
  },
  {
   "cell_type": "code",
   "execution_count": 56,
   "id": "6fb8db93-a32b-4ef9-b786-5137d51fb127",
   "metadata": {},
   "outputs": [],
   "source": [
    "def deobfuscate_powershell(obfuscated_code):\n",
    "    # First, let's clean up the string replacements\n",
    "    code = obfuscated_code\n",
    "    \n",
    "    # Replace the character array lookups (e.g., [rAhC] or [RahC])\n",
    "    char_matches = re.findall(r'(\\d+)\\]rAhC\\[', code, re.IGNORECASE)\n",
    "    for num in char_matches:\n",
    "        code = code.replace(f\"{num}]rAhC[\", chr(int(num)))\n",
    "    \n",
    "    # Replace other common obfuscation patterns\n",
    "    code = code.replace(\"replace-\", \"replace \")\n",
    "    code = code.replace(\"eCAlper\", \"replace\").replace(\"eCAlPeRc\", \"replace\")\n",
    "    code = code.replace(\"CREplaCE\", \"replace\")\n",
    "    \n",
    "    # Fix case sensitivity issues\n",
    "    code = code.replace(\"sEt-varIabLE\", \"Set-Variable\")\n",
    "    code = code.replace(\"VAriAblE\", \"Variable\")\n",
    "    code = code.replace(\"SeT-vAR\", \"Set-Var\")\n",
    "    \n",
    "    # Replace the -f format operator strings\n",
    "    format_matches = re.findall(r\"'-f'(.*?)'\", code)\n",
    "    if format_matches:\n",
    "        format_parts = [part.strip(\"'\") for part in format_matches[0].split(\",\")]\n",
    "        # Reconstruct the formatted string\n",
    "        formatted = \"\"\n",
    "        for i, part in enumerate(format_parts):\n",
    "            formatted += part.replace(\"IiD\", \"I\").replace(\"ukz\", \"u\").replace(\"yzp\", \"y\").replace(\"P81\", \"P\")\n",
    "        code = formatted\n",
    "    \n",
    "    # Clean up remaining obfuscation\n",
    "    code = code.replace(\"olT\", \"|\")\n",
    "    code = code.replace(\"rA9\", \"$\")\n",
    "    code = code.replace(\"lbH\", '\"')\n",
    "    code = code.replace(\"$IiD,\", \"$\")\n",
    "    code = code.replace(\"ask\", '\"')\n",
    "    \n",
    "    # Remove excessive whitespace\n",
    "    code = ' '.join(code.split())\n",
    "    \n",
    "    return code"
   ]
  },
  {
   "cell_type": "code",
   "execution_count": 52,
   "id": "710e9c43-b6c0-459e-a0ea-1355cea5c9bd",
   "metadata": {},
   "outputs": [],
   "source": [
    "inst[-1] = deobfuscate_powershell(inst[-2])"
   ]
  },
  {
   "cell_type": "code",
   "execution_count": 57,
   "id": "ba9f812e-3e28-447c-b207-10c084652a32",
   "metadata": {},
   "outputs": [],
   "source": [
    "\n",
    "def deobfuscate_powershell_2(obfuscated_code):\n",
    "    # Step 1: Extract the format string operation\n",
    "    format_pattern = r'\\((\"\\{[^}]+\\}\"-f\\'[^\\']+\\'(?:,\\'[^\\']+\\')*)\\)'\n",
    "    format_match = re.search(format_pattern, obfuscated_code)\n",
    "    \n",
    "    if format_match:\n",
    "        format_str = format_match.group(1)\n",
    "        # Extract format parts\n",
    "        parts = re.findall(r\"-f\\'([^\\']+)\\'(?:,\\'([^\\']+)\\')*\", format_str)\n",
    "        if parts:\n",
    "            # Rebuild the formatted string\n",
    "            format_template = re.search(r'(\"\\{[^}]+\\}\")', format_str).group(1)\n",
    "            format_args = [arg.strip(\"'\") for arg in parts[0]] + [arg.strip(\"'\") for arg in parts[1:][0]]\n",
    "            \n",
    "            # Create a mapping of indices to values\n",
    "            formatted = format_template\n",
    "            for i, arg in enumerate(format_args):\n",
    "                formatted = formatted.replace(\"{\" + str(i) + \"}\", arg)\n",
    "            \n",
    "            # Replace the format operation with its result\n",
    "            obfuscated_code = obfuscated_code.replace(format_match.group(0), formatted)\n",
    "\n",
    "    # Step 2: Handle character replacements ([RahC] patterns)\n",
    "    def replace_char(match):\n",
    "        char_code = match.group(1)\n",
    "        return chr(int(char_code))\n",
    "    \n",
    "    obfuscated_code = re.sub(r'(\\d+)\\]RahC\\[', replace_char, obfuscated_code, flags=re.IGNORECASE)\n",
    "\n",
    "    # Step 3: Clean up common obfuscation patterns\n",
    "    replacements = [\n",
    "        (r'replace-', 'replace '),\n",
    "        (r'eCAlper', 'replace'),\n",
    "        (r'eCAlPeRc', 'replace'),\n",
    "        (r'CREplaCE', 'replace'),\n",
    "        (r'Set-Var', 'Set-Variable'),\n",
    "        (r'VAriAblE', 'Variable'),\n",
    "        (r'olT', '|'),\n",
    "        (r'rA9', '$'),\n",
    "        (r'lbH', '\"'),\n",
    "        (r'\\$IiD,', '$'),\n",
    "        (r'ask', '\"'),\n",
    "        (r'ukz', 'u'),\n",
    "        (r'yzp', 'y'),\n",
    "        (r'P81', 'P'),\n",
    "        (r'IiD', 'I'),\n",
    "        (r'\\+ukz\\+', '+u+'),\n",
    "        (r'\\+yzp\\+', '+y+')\n",
    "    ]\n",
    "    \n",
    "    for pattern, replacement in replacements:\n",
    "        obfuscated_crovide a more complete reconstruction of what this might be building?\n",
    "\n",
    "Explain how these format strings are typically used in malware?\n",
    "\n",
    "Continue with the deobfuscation of the larger script?ode = re.sub(pattern, replacement, obfuscated_code, flags=re.IGNORECASE)\n",
    "\n",
    "    # Step 4: Clean up string concatenations\n",
    "    obfuscated_code = obfuscated_code.replace(\"'+'\", \"\").replace('\"+\"', '')\n",
    "\n",
    "    # Step 5: Fix common PowerShell syntax issues\n",
    "    obfuscated_code = obfuscated_code.replace(\" . \", \".\").replace(\" ; \", \";\")\n",
    "    obfuscated_code = obfuscated_code.replace(\" )\", \")\").replace(\"( \", \"(\")\n",
    "\n",
    "    # Step 6: Final cleanup\n",
    "    obfuscated_code = ' '.join(obfuscated_code.split())\n",
    "    obfuscated_code = obfuscated_code.replace('\" \"', '\"').replace(\"' '\", \"'\")\n",
    "\n",
    "    return obfuscated_code\n",
    "\n",
    "# Example usage:\n",
    "# obfuscated_code = '''Your obfuscated code here'''\n",
    "# deobfuscated = deobfuscate_powershell(obfuscated_code)\n",
    "# print(deobfuscated)"
   ]
  },
  {
   "cell_type": "code",
   "execution_count": 62,
   "id": "8a11f8dd-af74-4d95-81c8-e7b04ca4a054",
   "metadata": {},
   "outputs": [],
   "source": [
    "inst.append(deobfuscate_powershell_2(inst[-1]))"
   ]
  },
  {
   "cell_type": "code",
   "execution_count": 72,
   "id": "e36cd332-6041-42f7-b44b-feccae40aa25",
   "metadata": {},
   "outputs": [],
   "source": [
    "import re\n",
    "\n",
    "def clean_powershell(code):\n",
    "    # Step 1: Fix obvious typos and simple replacements\n",
    "    code = code.replace(\"Set-Variableiable\", \"Set-Variable\")\n",
    "    code = code.replace(\"replace \", \"-replace \")\n",
    "    code = code.replace(\"rePLACE\", \"-replace\")\n",
    "    code = code.replace(\"VariableI\", \"$I\")\n",
    "    code = code.replace(\"Variable N7a1U\", \"$N7a1U\")\n",
    "    \n",
    "    # Step 2: Clean up character codes (like \\x12)\n",
    "    def replace_hex(match):\n",
    "        try:\n",
    "            return chr(int(match.group(1), 16))\n",
    "        except:\n",
    "            return match.group(0)\n",
    "    code = re.sub(r'\\\\x([0-9a-fA-F]{2})', replace_hex, code)\n",
    "    \n",
    "    # Step 3: Fixed format string handling\n",
    "    format_pattern = r'\\(\\(\"(\\{.*?\\})\"-f\\'(.*?)\\'(?:,\\'(.*?)\\')*\\)\\)'\n",
    "    format_match = re.search(format_pattern, code)\n",
    "    \n",
    "    if format_match:\n",
    "        format_template = format_match.group(1)\n",
    "        format_args = [g for g in format_match.groups()[1:] if g is not None]\n",
    "        rovide a more complete reconstruction of what this might be building?\n",
    "\n",
    "Explain how these format strings are typically used in malware?\n",
    "\n",
    "Continue with the deobfuscation of the larger script?\n",
    "        # Split the format arguments (they're comma-separated in one string)\n",
    "        if format_args:\n",
    "            args = [a.strip(\"'\") for a in format_args[0].split(\"','\")]\n",
    "            \n",
    "            # Rebuild the string using the format template\n",
    "            try:\n",
    "                formatted = format_template\n",
    "                for i, arg in enumerate(args):\n",
    "                    formatted = formatted.replace(\"{\" + str(i) + \"}\", arg)\n",
    "                code = code.replace(format_match.group(0), f'\"{formatted}\"')\n",
    "            except:\n",
    "                # If formatting fails, just remove the format operation\n",
    "                code = code.replace(format_match.group(0), f'\"{\"\".join(args)}\"')\n",
    "    \n",
    "    # Step 4: Clean up remaining concatenations\n",
    "    code = code.replace(\"+'\", \"\").replace(\"'+\", \"\")\n",
    "    code = code.replace(\"$+\", \"$\").replace(\"+$\", \"$\")\n",
    "    \n",
    "    # Step 5: Fix common PowerShell syntax\n",
    "    code = code.replace(\" ;\", \";\").replace(\" )\", \")\").replace(\"( \", \"(\")\n",
    "    code = code.replace(\" -\", \"-\").replace(\"- \", \"-\")\n",
    "    \n",
    "    # Step 6: Remove redundant replacements\n",
    "    code = re.sub(r\"-replace \\'[^\\']*\\',\\'[^\\']*\\'\", \"\", code)\n",
    "    \n",
    "    # Step 7: Clean up variable names\n",
    "    code = code.replace(\"$SHeLLiD\", \"$shellId\")\n",
    "    code = code.replace(\"$sheLLId\", \"$shellId\")\n",
    "    \n",
    "    # Step 8: Final whitespace cleanup\n",
    "    code = ' '.join(code.split())\n",
    "    return code\n",
    "\n",
    "# Example usage:\n",
    "# current_output = '''Your current deobfuscated code'''\n",
    "# cleaner_code = clean_powershell(current_output)\n",
    "# print(cleaner_code)"
   ]
  },
  {
   "cell_type": "code",
   "execution_count": 74,
   "id": "0d385b83-4f9b-4090-9469-fae394b6948f",
   "metadata": {},
   "outputs": [],
   "source": [
    "inst.append(clean_powershell(inst[-1]))"
   ]
  },
  {
   "cell_type": "code",
   "execution_count": 77,
   "id": "6d02b195-4a79-419b-b28a-9f917383439c",
   "metadata": {},
   "outputs": [
    {
     "name": "stdout",
     "output_type": "stream",
     "text": [
      "Set-Variable IqBofD (\"))+,)\u0012+M+ (-replace ],'-replace ?,'\"'replace)') uNIoJ-]) hTGNEl.iex\" (-.. 1-[iex\" ()x+]03[EmoHsP\"+]4[eMohsp\" (.;) $ iex((& ($shellId[1]+$shellId[13]+'X'')((\"riDmo\"---))).replace('I',\"'\").-replace(('rA9'),[StRiNg]'$').replace('\"','\"')) $(iex ('X'+]31[DILlehs$]1[DLLeHS$ (&\")\n"
     ]
    }
   ],
   "source": [
    "import re\n",
    "\n",
    "def deobfuscate_powershell(code):\n",
    "    # Step 1: Clean up hex escapes and special characters\n",
    "    def replace_hex(match):\n",
    "        try:\n",
    "            return chr(int(match.group(1), 16))\n",
    "        except:\n",
    "            return match.group(0)\n",
    "    \n",
    "    code = re.sub(r'\\\\x([0-9a-fA-F]{2})', replace_hex, code)\n",
    "    \n",
    "    # Step 2: Fix string concatenation issues\n",
    "    code = code.replace(\"$shellId[1]$shellId[13]X\", \"$shellId[1]+$shellId[13]+'X'\")\n",
    "    \n",
    "    # Step 3: Clean up the format string pattern\n",
    "    format_pattern = r'u\\+\"(\\{.*?\\}.*?\\})\"'\n",
    "    format_match = re.search(format_pattern, code)\n",
    "    \n",
    "    if format_match:\n",
    "        format_str = format_match.group(1)\n",
    "        # This appears to be a malformed format string - we'll extract the readable parts\n",
    "        clean_str = re.sub(r'\\{.*?\\}', '', format_str)\n",
    "        code = code.replace(format_match.group(0), f'\"{clean_str}\"')\n",
    "    \n",
    "    # Step 4: Fix replacement operations\n",
    "    code = code.replace(\"--replace\", \"-replace\")\n",
    "    code = code.replace(\"'-replace\", \"-replace\")\n",
    "    \n",
    "    # Step 5: Clean up variable references\n",
    "    code = code.replace(\"]DILlehs$\", \"]DLLeHS$\")  # Fix typo\n",
    "    code = code.replace(\"DILLeHS$\", \"DLLeHS$\")    # Standardize\n",
    "    \n",
    "    # Step 6: Remove redundant replacements\n",
    "    redundant_patterns = [\n",
    "        r\"-replace \\'\\$\\'\\$\\'\",\n",
    "        r\"\\.replace\\(\\'\\'\\'\\,\\'\\'\\'\\)\",\n",
    "        r\"\\.replace\\(\\'\\\"\\'\\'\\\"\\'\\)\"\n",
    "    ]\n",
    "    \n",
    "    for pattern in redundant_patterns:\n",
    "        code = re.sub(pattern, '', code)\n",
    "    \n",
    "    # Step 7: Fix the final iex command\n",
    "    code = code.replace(\"VS\\'((()\\'X\", \"('X'+\")\n",
    "    code = code.replace(\"]31[DLLeHS$+]1[DLLeHS$ (&\", \"$DLLeHS[31]+$DLLeHS[1] | &\")\n",
    "    \n",
    "    # Step 8: Final cleanup\n",
    "    code = ' '.join(crovide a more complete reconstruction of what this might be building?\n",
    "\n",
    "Explain how these format strings are typically used in malware?\n",
    "\n",
    "Continue with the deobfuscation of the larger script?ode.split())\n",
    "    code = code.replace(\" . \", \".\")\n",
    "    code = code.replace(\" ;\", \";\")\n",
    "    \n",
    "    return code\n",
    "\n",
    "# Example usage:\n",
    "current_output = '''Set-Variable IqBofD (\"))+,)\\x12+M+ (-replace ],\\'\\'-replace ?,\\'\"\\'replace)\\') uNIoJ-]) hTGNEl.iex\" (-.. 1-[iex\" ()x+]03[EmoHsP\"+]4[eMohsp\" (.;) $ iex((& ($shellId[1]$shellId[13]X\\')((u+\"{15}{11}{10}{1}{22}{35}{24}{21+}{4}{34}{8}{9}{16}{27}{5}{38}{33}{23}{14}{20}{6}{26}{13}{17}{7}{28}{37}{31}{29}{2}{32}{12}{36}riDmo{19}{3}{18}{25}{30}\"--\\'--replace \\'$\\'$\\'-))).replace(\\'I\\',\"\\'\").-replace((\\'rA9\\'),[StRiNg]\\'$\\').replace(\\'\"\\',\\'\"\\')) $(iex VS\\'((()\\'X]31[DILlehs$]1[DILLeHS$ (&\")'''\n",
    "cleaner_code = deobfuscate_powershell(current_output)\n",
    "print(cleaner_code)"
   ]
  },
  {
   "cell_type": "code",
   "execution_count": 76,
   "id": "e17d7df8-124b-4ca9-8b81-affde93bed67",
   "metadata": {},
   "outputs": [
    {
     "data": {
      "text/plain": [
       "'Set-Variable IqBofD (\"))+,)\\x12+M+ (-replace ],\\'\\'-replace ?,\\'\"\\'replace)\\') uNIoJ-]) hTGNEl.iex\" (-.. 1-[iex\" ()x+]03[EmoHsP\"+]4[eMohsp\" (.;) $ iex((& ($shellId[1]$shellId[13]X\\')((u+\"{15}{11}{10}{1}{22}{35}{24}{21+}{4}{34}{8}{9}{16}{27}{5}{38}{33}{23}{14}{20}{6}{26}{13}{17}{7}{28}{37}{31}{29}{2}{32}{12}{36}riDmo{19}{3}{18}{25}{30}\"--\\'--replace \\'$\\'$\\'-))).replace(\\'I\\',\"\\'\").-replace((\\'rA9\\'),[StRiNg]\\'$\\').replace(\\'\"\\',\\'\"\\')) $(iex VS\\'((()\\'X]31[DILlehs$]1[DILLeHS$ (&\")'"
      ]
     },
     "execution_count": 76,
     "metadata": {},
     "output_type": "execute_result"
    }
   ],
   "source": [
    "inst[-1]"
   ]
  },
  {
   "cell_type": "code",
   "execution_count": 75,
   "id": "57d95e19-2fe5-487a-8b3d-10d1555f657d",
   "metadata": {},
   "outputs": [
    {
     "data": {
      "text/plain": [
       "(459, 1372)"
      ]
     },
     "execution_count": 75,
     "metadata": {},
     "output_type": "execute_result"
    }
   ],
   "source": [
    "len(inst[-1]) , len(inst[-2])"
   ]
  },
  {
   "cell_type": "code",
   "execution_count": 78,
   "id": "a0adc6ac-97be-4995-852f-ef7a1b00be7c",
   "metadata": {},
   "outputs": [
    {
     "name": "stdout",
     "output_type": "stream",
     "text": [
      "Set-Variable IqBofD $null.) $(iex 'X' + $DLLeHS[31]$DLLeHS[1] (&\")\n"
     ]
    }
   ],
   "source": [
    "import re\n",
    "\n",
    "def deobfuscate_powershell(code):\n",
    "    # Step 1: Clean up the Set-Variable command\n",
    "    code = re.sub(r'Set-Variable IqBofD \\(\".*?\"\\)', 'Set-Variable IqBofD $null', code)\n",
    "    \n",
    "    # Step 2: Fix the shellId concatenation\n",
    "    code = code.replace(\"$shellId[1]+$shellId[13]+'X'\", \"'o' + 'i' + 'X'\")  # Common values for shellId\n",
    "    \n",
    "    # Step 3: Remove redundant string operations\n",
    "    code = code.replace(\"---\", \"\")\n",
    "    code = code.replace(\"(-.. 1-[iex\", \"(iex\")\n",
    "    code = code.replace('replace)\"', '\"')\n",
    "    \n",
    "    # Step 4: Clean up the replace operations\n",
    "    code = code.replace(\".replace('I',\\\"'\\\")\", \"\")\n",
    "    code = code.replace(\"-replace(('rA9'),[StRiNg]'$')\", \"\")\n",
    "    code = code.replace(\".replace('\\\"','\\\"')\", \"\")\n",
    "    \n",
    "    # Step 5: Fix the final iex command\n",
    "    code = code.replace(\"]31[DILlehs$\", \"$DLLeHS[31]\")\n",
    "    code = code.replace(\"]1[DLLeHS$\", \"$DLLeHS[1]\")\n",
    "    code = code.replace(\"('X'+\", \"'X' + \")\n",
    "    \n",
    "    # Step 6: Remove empty parentheses and malformed commands\n",
    "    code = code.replace(\"(((\", \"(\")\n",
    "    code = code.replace(\")))\", \")\")\n",
    "    code = re.sub(r'\\(\\s*\\)', '', code)\n",
    "    \n",
    "    # Step 7: Final cleanup\n",
    "    code = ' '.join(code.split())\n",
    "    code = code.replace(\" . \", \".\")\n",
    "    code = code.replace(\" ;\", \";\")\n",
    "    \n",
    "    return code\n",
    "\n",
    "# Current output\n",
    "current_output = '''Set-Variable IqBofD (\"))+,)\u0012+M+ (-replace ],'-replace ?,'\"'replace)') uNIoJ-]) hTGNEl.iex\" (-.. 1-[iex\" ()x+]03[EmoHsP\"+]4[eMohsp\" (.;) $ iex((& ($shellId[1]+$shellId[13]+'X'')((\"riDmo\"---))).replace('I',\"'\").-replace(('rA9'),[StRiNg]'$').replace('\"','\"')) $(iex ('X'+]31[DILlehs$]1[DLLeHS$ (&\")'''\n",
    "\n",
    "cleaner_code = deobfuscate_powershell(current_output)\n",
    "print(cleaner_code)"
   ]
  }
 ],
 "metadata": {
  "kernelspec": {
   "display_name": "Python 3 (ipykernel)",
   "language": "python",
   "name": "python3"
  },
  "language_info": {
   "codemirror_mode": {
    "name": "ipython",
    "version": 3
   },
   "file_extension": ".py",
   "mimetype": "text/x-python",
   "name": "python",
   "nbconvert_exporter": "python",
   "pygments_lexer": "ipython3",
   "version": "3.12.3"
  }
 },
 "nbformat": 4,
 "nbformat_minor": 5
}
