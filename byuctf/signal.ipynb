{
 "cells": [
  {
   "cell_type": "code",
   "execution_count": 1,
   "id": "a09c4f29-e81c-45dd-bfc3-df7108f45e48",
   "metadata": {},
   "outputs": [],
   "source": [
    "import pandas as pd\n"
   ]
  },
  {
   "cell_type": "code",
   "execution_count": 3,
   "id": "456434ca-21c2-4fc8-b11e-12235a488fe9",
   "metadata": {},
   "outputs": [],
   "source": [
    "signal = pd.read_csv('/home/julixquid/Downloads/output_signal.csv')"
   ]
  },
  {
   "cell_type": "code",
   "execution_count": 15,
   "id": "ceef2bf0-6b32-4431-b6ca-c4d855dbe196",
   "metadata": {},
   "outputs": [],
   "source": [
    "signal_2 = signal[signal['start_time']>3.348898]"
   ]
  },
  {
   "cell_type": "code",
   "execution_count": 21,
   "id": "a8b3a789-fcbb-46e9-84b3-75e35d8c1ea7",
   "metadata": {},
   "outputs": [],
   "source": [
    "indexes = signal_2[signal_2['read']==False].index"
   ]
  },
  {
   "cell_type": "code",
   "execution_count": 34,
   "id": "a05d2ee1-bf34-495a-af3e-eb5d0021a40c",
   "metadata": {},
   "outputs": [],
   "source": [
    "ascii_dict = {\n",
    "    0x0000: ' ',   # (space)\n",
    "    0x4006: '!',\n",
    "    0x0202: '\"',\n",
    "    0x12CE: '#',\n",
    "    0x12ED: '$',\n",
    "    0x3FE4: '%',\n",
    "    0x2359: '&',\n",
    "    0x0200: \"'\",\n",
    "    0x2400: '(',\n",
    "    0x0900: ')',\n",
    "    0x3FC0: '*',\n",
    "    0x12C0: '+',\n",
    "    0x0800: ',',\n",
    "    0x00C0: '-',\n",
    "    0x4000: '.',\n",
    "    0x0C00: '/',\n",
    "    0x0C3F: '0',\n",
    "    0x0406: '1',\n",
    "    0x00DB: '2',\n",
    "    0x008F: '3',\n",
    "    0x00E6: '4',\n",
    "    0x2069: '5',\n",
    "    0x00FD: '6',\n",
    "    0x0007: '7',\n",
    "    0x00FF: '8',\n",
    "    0x00EF: '9',\n",
    "    0x1200: ':',\n",
    "    0x0A00: ';',\n",
    "    0x2440: '<',\n",
    "    0x00C8: '=',\n",
    "    0x0980: '>',\n",
    "    0x5083: '?',\n",
    "    0x02BB: '@',\n",
    "    0x00F7: 'A',\n",
    "    0x128F: 'B',\n",
    "    0x0039: 'C',\n",
    "    0x120F: 'D',\n",
    "    0x0079: 'E',\n",
    "    0x0071: 'F',\n",
    "    0x00BD: 'G',\n",
    "    0x00F6: 'H',\n",
    "    0x1209: 'I',\n",
    "    0x001E: 'J',\n",
    "    0x2470: 'K',\n",
    "    0x0038: 'L',\n",
    "    0x0536: 'M',\n",
    "    0x2136: 'N',\n",
    "    0x003F: 'O',\n",
    "    0x00F3: 'P',\n",
    "    0x203F: 'Q',\n",
    "    0x20F3: 'R',\n",
    "    0x00ED: 'S',\n",
    "    0x1201: 'T',\n",
    "    0x003E: 'U',\n",
    "    0x0C30: 'V',\n",
    "    0x2836: 'W',\n",
    "    0x2D00: 'X',\n",
    "    0x00EE: 'Y',\n",
    "    0x0C09: 'Z',\n",
    "    0x0039: '[',\n",
    "    0x2100: '\\\\',\n",
    "    0x000F: ']',\n",
    "    0x2800: '^',\n",
    "    0x0008: '_',\n",
    "    0x0100: '`',\n",
    "    0x1058: 'a',\n",
    "    0x2078: 'b',\n",
    "    0x00D8: 'c',\n",
    "    0x088E: 'd',\n",
    "    0x0858: 'e',\n",
    "    0x14C0: 'f',\n",
    "    0x048E: 'g',\n",
    "    0x1070: 'h',\n",
    "    0x1000: 'i',\n",
    "    0x0A10: 'j',\n",
    "    0x3600: 'k',\n",
    "    0x0030: 'l',\n",
    "    0x10D4: 'm',\n",
    "    0x1050: 'n',\n",
    "    0x00DC: 'o',\n",
    "    0x0170: 'p',\n",
    "    0x0486: 'q',\n",
    "    0x0050: 'r',\n",
    "    0x2088: 's',\n",
    "    0x0078: 't',\n",
    "    0x001C: 'u',\n",
    "    0x0810: 'v',\n",
    "    0x2814: 'w',\n",
    "    0x2D00: 'x',\n",
    "    0x028E: 'y',\n",
    "    0x0848: 'z',\n",
    "    0x0949: '{',\n",
    "    0x1200: '|',\n",
    "    0x2489: '}',\n",
    "    0x0CC0: '~',\n",
    "    0x0000: '\\x7f'  # (DEL)\n",
    "}"
   ]
  },
  {
   "cell_type": "code",
   "execution_count": 33,
   "id": "d49cd6ea-494f-4307-9dcf-15d58a19c987",
   "metadata": {},
   "outputs": [
    {
     "data": {
      "text/plain": [
       "8312"
      ]
     },
     "execution_count": 33,
     "metadata": {},
     "output_type": "execute_result"
    }
   ],
   "source": [
    "(int(signal_2.loc[indexes[0]+3]['data'],16)*16**2)+int(signal_2.loc[indexes[0]+2]['data'],16)"
   ]
  },
  {
   "cell_type": "code",
   "execution_count": 35,
   "id": "c9f4e071-7dbe-4390-aab3-fce809f54aad",
   "metadata": {},
   "outputs": [
    {
     "data": {
      "text/plain": [
       "'b'"
      ]
     },
     "execution_count": 35,
     "metadata": {},
     "output_type": "execute_result"
    }
   ],
   "source": [
    "ascii_dict[8312]"
   ]
  },
  {
   "cell_type": "code",
   "execution_count": 56,
   "id": "38dd7dfb-b390-4347-b5be-4d1bd665bca2",
   "metadata": {},
   "outputs": [],
   "source": [
    "possible_flag = []\n",
    "\n",
    "for index in indexes:\n",
    "    chunk = []    \n",
    "    try:\n",
    "        for i in range(4):\n",
    "            chunk.append(ascii_dict[(int(signal_2.loc[index+3+(2*i)]['data'],16)*16**2)+int(signal_2.loc[index+2+(2*i)]['data'],16)])\n",
    "        possible_flag.append(chunk)\n",
    "    except:\n",
    "        possible_flag.append(chunk)"
   ]
  },
  {
   "cell_type": "code",
   "execution_count": 57,
   "id": "6f7a07cf-5ee8-4c78-adeb-a3d272851ae0",
   "metadata": {},
   "outputs": [
    {
     "data": {
      "text/plain": [
       "[['b'],\n",
       " [],\n",
       " ['u', 'c', 't', 'F'],\n",
       " ['c', 't', 'F', '{'],\n",
       " ['t', 'F', '{', '4'],\n",
       " ['F', '{', '4', 'r'],\n",
       " ['{', '4', 'r', '3'],\n",
       " ['4', 'r', '3', 'n'],\n",
       " ['r', '3', 'n', '7'],\n",
       " ['3', 'n', '7', '_'],\n",
       " ['n', '7', '_', 'h'],\n",
       " ['7', '_', 'h', '4'],\n",
       " ['_', 'h', '4', 'r'],\n",
       " ['h', '4', 'r', 'd'],\n",
       " ['4', 'r', 'd', 'w'],\n",
       " ['r', 'd', 'w', '4'],\n",
       " ['d', 'w', '4', 'r'],\n",
       " ['w', '4', 'r', '3'],\n",
       " ['4', 'r', '3', '_'],\n",
       " ['r', '3', '_', 'p'],\n",
       " ['3', '_', 'p', 'r'],\n",
       " ['_', 'p', 'r', '0'],\n",
       " ['p', 'r', '0'],\n",
       " ['\\x7f', '\\x7f', '\\x7f'],\n",
       " ['r', '0', '7', '0'],\n",
       " ['0', '7', '0', 'c'],\n",
       " ['7', '0', 'c', '0'],\n",
       " ['0', 'c', '0', 'l'],\n",
       " ['c', '0', 'l', '5'],\n",
       " ['0', 'l', '5', '_'],\n",
       " ['l', '5', '_', 'c'],\n",
       " ['5', '_', 'c', '0'],\n",
       " ['_', 'c', '0', '0'],\n",
       " ['c', '0', '0', 'l'],\n",
       " ['0'],\n",
       " [],\n",
       " [],\n",
       " [],\n",
       " ['b'],\n",
       " [],\n",
       " ['u', 'c', 't', 'F'],\n",
       " ['c', 't', 'F', '{'],\n",
       " ['t', 'F', '{', '4']]"
      ]
     },
     "execution_count": 57,
     "metadata": {},
     "output_type": "execute_result"
    }
   ],
   "source": [
    "possible_flag"
   ]
  },
  {
   "cell_type": "code",
   "execution_count": 42,
   "id": "16f98413-22ad-43d3-9479-e6ccd22a4d5d",
   "metadata": {},
   "outputs": [],
   "source": [
    "possible_flag = []\n",
    "for index in indexes:\n",
    "    try:\n",
    "        possible_flag.append(ascii_dict[(int(signal_2.loc[index+3+2]['data'],16)*16**2)+int(signal_2.loc[index+2+2]['data'],16)])\n",
    "    except:\n",
    "        pass"
   ]
  },
  {
   "cell_type": "code",
   "execution_count": 43,
   "id": "06013b89-6140-4280-b280-b9295d8c5d59",
   "metadata": {},
   "outputs": [
    {
     "data": {
      "text/plain": [
       "'uctF{4r3n7_h4rdw4r3_pr\\x7f070c0l5_c0uctF'"
      ]
     },
     "execution_count": 43,
     "metadata": {},
     "output_type": "execute_result"
    }
   ],
   "source": [
    "''.join(possible_flag)"
   ]
  },
  {
   "cell_type": "code",
   "execution_count": 48,
   "id": "0c3f2676-7166-443c-b532-fbf953b8061c",
   "metadata": {},
   "outputs": [],
   "source": [
    "possible_flag = []\n",
    "for index in indexes:\n",
    "    try:\n",
    "        possible_flag.append(ascii_dict[(int(signal_2.loc[index+3+2+2]['data'],16)*16**2)+int(signal_2.loc[index+2+2+2]['data'],16)])\n",
    "    except:\n",
    "        pass"
   ]
  },
  {
   "cell_type": "code",
   "execution_count": 49,
   "id": "88ffdfbc-d9f3-4b1f-be8d-ee166824c5fb",
   "metadata": {},
   "outputs": [
    {
     "data": {
      "text/plain": [
       "'uctF{4r3n7_h4rdw4r3_pr0\\x7f70c0l5_c00\\x7fuctF{'"
      ]
     },
     "execution_count": 49,
     "metadata": {},
     "output_type": "execute_result"
    }
   ],
   "source": [
    "''.join(possible_flag)"
   ]
  },
  {
   "cell_type": "code",
   "execution_count": 52,
   "id": "ec440819-ca8c-4c30-b419-8b11f12ccca1",
   "metadata": {},
   "outputs": [
    {
     "name": "stdout",
     "output_type": "stream",
     "text": [
      "0x8300\n",
      "0x8910\n"
     ]
    }
   ],
   "source": [
    "possible_flag = []\n",
    "for index in indexes:\n",
    "    try:\n",
    "        possible_flag.append(ascii_dict[(int(signal_2.loc[index+3+2+2+2]['data'],16)*16**2)+int(signal_2.loc[index+2+2+2+2]['data'],16)])\n",
    "    except:\n",
    "        try:\n",
    "            print(hex((int(signal_2.loc[index+3+2+2+2]['data'],16)*16**2)+int(signal_2.loc[index+2+2+2+2]['data'],16)))\n",
    "        except:\n",
    "            pass"
   ]
  },
  {
   "cell_type": "code",
   "execution_count": 49,
   "id": "5fe29af5-c23a-4c13-8286-31003f4d4c9b",
   "metadata": {},
   "outputs": [
    {
     "data": {
      "text/plain": [
       "'uctF{4r3n7_h4rdw4r3_pr0\\x7f70c0l5_c00\\x7fuctF{'"
      ]
     },
     "execution_count": 49,
     "metadata": {},
     "output_type": "execute_result"
    }
   ],
   "source": [
    "''.join(possible_flag)"
   ]
  },
  {
   "cell_type": "code",
   "execution_count": null,
   "id": "4218668d-fe2c-4791-bcbe-639fbae6eb9c",
   "metadata": {},
   "outputs": [],
   "source": [
    "\"byuctf{4r3n7_h4rdw4r3_pr070c0l5_c00l}\""
   ]
  }
 ],
 "metadata": {
  "kernelspec": {
   "display_name": "Python 3 (ipykernel)",
   "language": "python",
   "name": "python3"
  },
  "language_info": {
   "codemirror_mode": {
    "name": "ipython",
    "version": 3
   },
   "file_extension": ".py",
   "mimetype": "text/x-python",
   "name": "python",
   "nbconvert_exporter": "python",
   "pygments_lexer": "ipython3",
   "version": "3.12.3"
  }
 },
 "nbformat": 4,
 "nbformat_minor": 5
}
